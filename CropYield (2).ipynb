{
 "cells": [
  {
   "cell_type": "code",
   "execution_count": 1,
   "id": "2d8fcabc",
   "metadata": {},
   "outputs": [
    {
     "data": {
      "text/html": [
       "<div>\n",
       "<style scoped>\n",
       "    .dataframe tbody tr th:only-of-type {\n",
       "        vertical-align: middle;\n",
       "    }\n",
       "\n",
       "    .dataframe tbody tr th {\n",
       "        vertical-align: top;\n",
       "    }\n",
       "\n",
       "    .dataframe thead th {\n",
       "        text-align: right;\n",
       "    }\n",
       "</style>\n",
       "<table border=\"1\" class=\"dataframe\">\n",
       "  <thead>\n",
       "    <tr style=\"text-align: right;\">\n",
       "      <th></th>\n",
       "      <th>State</th>\n",
       "      <th>District</th>\n",
       "      <th>Crop</th>\n",
       "      <th>Year</th>\n",
       "      <th>Season</th>\n",
       "      <th>Area</th>\n",
       "      <th>Area Units</th>\n",
       "      <th>Production</th>\n",
       "      <th>Production Units</th>\n",
       "      <th>Yield</th>\n",
       "    </tr>\n",
       "  </thead>\n",
       "  <tbody>\n",
       "    <tr>\n",
       "      <th>0</th>\n",
       "      <td>Andaman and Nicobar Islands</td>\n",
       "      <td>NICOBARS</td>\n",
       "      <td>Arecanut</td>\n",
       "      <td>2001-02</td>\n",
       "      <td>Kharif</td>\n",
       "      <td>1254.0</td>\n",
       "      <td>Hectare</td>\n",
       "      <td>2061.0</td>\n",
       "      <td>Tonnes</td>\n",
       "      <td>1.643541</td>\n",
       "    </tr>\n",
       "    <tr>\n",
       "      <th>1</th>\n",
       "      <td>Andaman and Nicobar Islands</td>\n",
       "      <td>NICOBARS</td>\n",
       "      <td>Arecanut</td>\n",
       "      <td>2002-03</td>\n",
       "      <td>Whole Year</td>\n",
       "      <td>1258.0</td>\n",
       "      <td>Hectare</td>\n",
       "      <td>2083.0</td>\n",
       "      <td>Tonnes</td>\n",
       "      <td>1.655803</td>\n",
       "    </tr>\n",
       "    <tr>\n",
       "      <th>2</th>\n",
       "      <td>Andaman and Nicobar Islands</td>\n",
       "      <td>NICOBARS</td>\n",
       "      <td>Arecanut</td>\n",
       "      <td>2003-04</td>\n",
       "      <td>Whole Year</td>\n",
       "      <td>1261.0</td>\n",
       "      <td>Hectare</td>\n",
       "      <td>1525.0</td>\n",
       "      <td>Tonnes</td>\n",
       "      <td>1.209358</td>\n",
       "    </tr>\n",
       "    <tr>\n",
       "      <th>3</th>\n",
       "      <td>Andaman and Nicobar Islands</td>\n",
       "      <td>NORTH AND MIDDLE ANDAMAN</td>\n",
       "      <td>Arecanut</td>\n",
       "      <td>2001-02</td>\n",
       "      <td>Kharif</td>\n",
       "      <td>3100.0</td>\n",
       "      <td>Hectare</td>\n",
       "      <td>5239.0</td>\n",
       "      <td>Tonnes</td>\n",
       "      <td>1.690000</td>\n",
       "    </tr>\n",
       "    <tr>\n",
       "      <th>4</th>\n",
       "      <td>Andaman and Nicobar Islands</td>\n",
       "      <td>SOUTH ANDAMANS</td>\n",
       "      <td>Arecanut</td>\n",
       "      <td>2002-03</td>\n",
       "      <td>Whole Year</td>\n",
       "      <td>3105.0</td>\n",
       "      <td>Hectare</td>\n",
       "      <td>5267.0</td>\n",
       "      <td>Tonnes</td>\n",
       "      <td>1.696296</td>\n",
       "    </tr>\n",
       "  </tbody>\n",
       "</table>\n",
       "</div>"
      ],
      "text/plain": [
       "                         State                  District      Crop     Year  \\\n",
       "0  Andaman and Nicobar Islands                  NICOBARS  Arecanut  2001-02   \n",
       "1  Andaman and Nicobar Islands                  NICOBARS  Arecanut  2002-03   \n",
       "2  Andaman and Nicobar Islands                  NICOBARS  Arecanut  2003-04   \n",
       "3  Andaman and Nicobar Islands  NORTH AND MIDDLE ANDAMAN  Arecanut  2001-02   \n",
       "4  Andaman and Nicobar Islands            SOUTH ANDAMANS  Arecanut  2002-03   \n",
       "\n",
       "       Season    Area Area Units  Production Production Units     Yield  \n",
       "0      Kharif  1254.0    Hectare      2061.0           Tonnes  1.643541  \n",
       "1  Whole Year  1258.0    Hectare      2083.0           Tonnes  1.655803  \n",
       "2  Whole Year  1261.0    Hectare      1525.0           Tonnes  1.209358  \n",
       "3      Kharif  3100.0    Hectare      5239.0           Tonnes  1.690000  \n",
       "4  Whole Year  3105.0    Hectare      5267.0           Tonnes  1.696296  "
      ]
     },
     "execution_count": 1,
     "metadata": {},
     "output_type": "execute_result"
    }
   ],
   "source": [
    "import numpy as np\n",
    "import pandas as pd\n",
    "import matplotlib.pyplot as plt\n",
    "import seaborn as sns\n",
    "\n",
    "df = pd.read_csv('India Agriculture Crop Production-Copy1.csv')\n",
    "df.head()"
   ]
  },
  {
   "cell_type": "code",
   "execution_count": 2,
   "id": "5f692640",
   "metadata": {},
   "outputs": [
    {
     "data": {
      "text/plain": [
       "(345407, 10)"
      ]
     },
     "execution_count": 2,
     "metadata": {},
     "output_type": "execute_result"
    }
   ],
   "source": [
    "df.shape"
   ]
  },
  {
   "cell_type": "code",
   "execution_count": 3,
   "id": "2601af63",
   "metadata": {},
   "outputs": [
    {
     "data": {
      "text/plain": [
       "State                  0\n",
       "District               0\n",
       "Crop                  32\n",
       "Year                   0\n",
       "Season                 1\n",
       "Area                  33\n",
       "Area Units             0\n",
       "Production          4993\n",
       "Production Units       0\n",
       "Yield                 33\n",
       "dtype: int64"
      ]
     },
     "execution_count": 3,
     "metadata": {},
     "output_type": "execute_result"
    }
   ],
   "source": [
    "df.isnull().sum()"
   ]
  },
  {
   "cell_type": "code",
   "execution_count": 4,
   "id": "ad95a6c9",
   "metadata": {},
   "outputs": [
    {
     "name": "stdout",
     "output_type": "stream",
     "text": [
      "<class 'pandas.core.frame.DataFrame'>\n",
      "RangeIndex: 345407 entries, 0 to 345406\n",
      "Data columns (total 10 columns):\n",
      " #   Column            Non-Null Count   Dtype  \n",
      "---  ------            --------------   -----  \n",
      " 0   State             345407 non-null  object \n",
      " 1   District          345407 non-null  object \n",
      " 2   Crop              345375 non-null  object \n",
      " 3   Year              345407 non-null  object \n",
      " 4   Season            345406 non-null  object \n",
      " 5   Area              345374 non-null  float64\n",
      " 6   Area Units        345407 non-null  object \n",
      " 7   Production        340414 non-null  float64\n",
      " 8   Production Units  345407 non-null  object \n",
      " 9   Yield             345374 non-null  float64\n",
      "dtypes: float64(3), object(7)\n",
      "memory usage: 26.4+ MB\n"
     ]
    }
   ],
   "source": [
    "df.info()"
   ]
  },
  {
   "cell_type": "code",
   "execution_count": 5,
   "id": "ddcd132f",
   "metadata": {},
   "outputs": [],
   "source": [
    "unwanted_columns = ['Area', 'Area Units', 'Production', 'Production Units', 'Season']\n",
    "df.drop(columns=unwanted_columns, inplace=True)\n",
    "df.to_csv(\"modified_csv_file.csv\", index=False)"
   ]
  },
  {
   "cell_type": "code",
   "execution_count": 6,
   "id": "ad46b653",
   "metadata": {},
   "outputs": [
    {
     "data": {
      "text/html": [
       "<div>\n",
       "<style scoped>\n",
       "    .dataframe tbody tr th:only-of-type {\n",
       "        vertical-align: middle;\n",
       "    }\n",
       "\n",
       "    .dataframe tbody tr th {\n",
       "        vertical-align: top;\n",
       "    }\n",
       "\n",
       "    .dataframe thead th {\n",
       "        text-align: right;\n",
       "    }\n",
       "</style>\n",
       "<table border=\"1\" class=\"dataframe\">\n",
       "  <thead>\n",
       "    <tr style=\"text-align: right;\">\n",
       "      <th></th>\n",
       "      <th>State</th>\n",
       "      <th>District</th>\n",
       "      <th>Crop</th>\n",
       "      <th>Year</th>\n",
       "      <th>Yield</th>\n",
       "    </tr>\n",
       "  </thead>\n",
       "  <tbody>\n",
       "    <tr>\n",
       "      <th>0</th>\n",
       "      <td>Andaman and Nicobar Islands</td>\n",
       "      <td>NICOBARS</td>\n",
       "      <td>Arecanut</td>\n",
       "      <td>2001-02</td>\n",
       "      <td>1.643541</td>\n",
       "    </tr>\n",
       "    <tr>\n",
       "      <th>1</th>\n",
       "      <td>Andaman and Nicobar Islands</td>\n",
       "      <td>NICOBARS</td>\n",
       "      <td>Arecanut</td>\n",
       "      <td>2002-03</td>\n",
       "      <td>1.655803</td>\n",
       "    </tr>\n",
       "    <tr>\n",
       "      <th>2</th>\n",
       "      <td>Andaman and Nicobar Islands</td>\n",
       "      <td>NICOBARS</td>\n",
       "      <td>Arecanut</td>\n",
       "      <td>2003-04</td>\n",
       "      <td>1.209358</td>\n",
       "    </tr>\n",
       "    <tr>\n",
       "      <th>3</th>\n",
       "      <td>Andaman and Nicobar Islands</td>\n",
       "      <td>NORTH AND MIDDLE ANDAMAN</td>\n",
       "      <td>Arecanut</td>\n",
       "      <td>2001-02</td>\n",
       "      <td>1.690000</td>\n",
       "    </tr>\n",
       "    <tr>\n",
       "      <th>4</th>\n",
       "      <td>Andaman and Nicobar Islands</td>\n",
       "      <td>SOUTH ANDAMANS</td>\n",
       "      <td>Arecanut</td>\n",
       "      <td>2002-03</td>\n",
       "      <td>1.696296</td>\n",
       "    </tr>\n",
       "  </tbody>\n",
       "</table>\n",
       "</div>"
      ],
      "text/plain": [
       "                         State                  District      Crop     Year  \\\n",
       "0  Andaman and Nicobar Islands                  NICOBARS  Arecanut  2001-02   \n",
       "1  Andaman and Nicobar Islands                  NICOBARS  Arecanut  2002-03   \n",
       "2  Andaman and Nicobar Islands                  NICOBARS  Arecanut  2003-04   \n",
       "3  Andaman and Nicobar Islands  NORTH AND MIDDLE ANDAMAN  Arecanut  2001-02   \n",
       "4  Andaman and Nicobar Islands            SOUTH ANDAMANS  Arecanut  2002-03   \n",
       "\n",
       "      Yield  \n",
       "0  1.643541  \n",
       "1  1.655803  \n",
       "2  1.209358  \n",
       "3  1.690000  \n",
       "4  1.696296  "
      ]
     },
     "execution_count": 6,
     "metadata": {},
     "output_type": "execute_result"
    }
   ],
   "source": [
    "df1 = pd.read_csv('modified_csv_file.csv')\n",
    "df1.head()"
   ]
  },
  {
   "cell_type": "code",
   "execution_count": 7,
   "id": "94ace8fa",
   "metadata": {},
   "outputs": [
    {
     "data": {
      "text/html": [
       "<div>\n",
       "<style scoped>\n",
       "    .dataframe tbody tr th:only-of-type {\n",
       "        vertical-align: middle;\n",
       "    }\n",
       "\n",
       "    .dataframe tbody tr th {\n",
       "        vertical-align: top;\n",
       "    }\n",
       "\n",
       "    .dataframe thead th {\n",
       "        text-align: right;\n",
       "    }\n",
       "</style>\n",
       "<table border=\"1\" class=\"dataframe\">\n",
       "  <thead>\n",
       "    <tr style=\"text-align: right;\">\n",
       "      <th></th>\n",
       "      <th>Yield</th>\n",
       "    </tr>\n",
       "  </thead>\n",
       "  <tbody>\n",
       "    <tr>\n",
       "      <th>count</th>\n",
       "      <td>345374.000000</td>\n",
       "    </tr>\n",
       "    <tr>\n",
       "      <th>mean</th>\n",
       "      <td>79.407569</td>\n",
       "    </tr>\n",
       "    <tr>\n",
       "      <th>std</th>\n",
       "      <td>916.628744</td>\n",
       "    </tr>\n",
       "    <tr>\n",
       "      <th>min</th>\n",
       "      <td>0.000000</td>\n",
       "    </tr>\n",
       "    <tr>\n",
       "      <th>25%</th>\n",
       "      <td>0.546742</td>\n",
       "    </tr>\n",
       "    <tr>\n",
       "      <th>50%</th>\n",
       "      <td>1.000000</td>\n",
       "    </tr>\n",
       "    <tr>\n",
       "      <th>75%</th>\n",
       "      <td>2.467080</td>\n",
       "    </tr>\n",
       "    <tr>\n",
       "      <th>max</th>\n",
       "      <td>43958.333333</td>\n",
       "    </tr>\n",
       "  </tbody>\n",
       "</table>\n",
       "</div>"
      ],
      "text/plain": [
       "               Yield\n",
       "count  345374.000000\n",
       "mean       79.407569\n",
       "std       916.628744\n",
       "min         0.000000\n",
       "25%         0.546742\n",
       "50%         1.000000\n",
       "75%         2.467080\n",
       "max     43958.333333"
      ]
     },
     "execution_count": 7,
     "metadata": {},
     "output_type": "execute_result"
    }
   ],
   "source": [
    "df1.describe()"
   ]
  },
  {
   "cell_type": "code",
   "execution_count": 8,
   "id": "86087326",
   "metadata": {},
   "outputs": [
    {
     "name": "stdout",
     "output_type": "stream",
     "text": [
      "<class 'pandas.core.frame.DataFrame'>\n",
      "RangeIndex: 345407 entries, 0 to 345406\n",
      "Data columns (total 5 columns):\n",
      " #   Column    Non-Null Count   Dtype  \n",
      "---  ------    --------------   -----  \n",
      " 0   State     345407 non-null  object \n",
      " 1   District  345407 non-null  object \n",
      " 2   Crop      345375 non-null  object \n",
      " 3   Year      345407 non-null  object \n",
      " 4   Yield     345374 non-null  float64\n",
      "dtypes: float64(1), object(4)\n",
      "memory usage: 13.2+ MB\n"
     ]
    }
   ],
   "source": [
    "df1.info()"
   ]
  },
  {
   "cell_type": "code",
   "execution_count": 9,
   "id": "c3bfa614",
   "metadata": {},
   "outputs": [],
   "source": [
    "df1['Year'] = df1['Year'].str.split('-').str[0].astype(int)"
   ]
  },
  {
   "cell_type": "code",
   "execution_count": 10,
   "id": "69ef8fb8",
   "metadata": {},
   "outputs": [
    {
     "data": {
      "text/html": [
       "<div>\n",
       "<style scoped>\n",
       "    .dataframe tbody tr th:only-of-type {\n",
       "        vertical-align: middle;\n",
       "    }\n",
       "\n",
       "    .dataframe tbody tr th {\n",
       "        vertical-align: top;\n",
       "    }\n",
       "\n",
       "    .dataframe thead th {\n",
       "        text-align: right;\n",
       "    }\n",
       "</style>\n",
       "<table border=\"1\" class=\"dataframe\">\n",
       "  <thead>\n",
       "    <tr style=\"text-align: right;\">\n",
       "      <th></th>\n",
       "      <th>State</th>\n",
       "      <th>District</th>\n",
       "      <th>Crop</th>\n",
       "      <th>Year</th>\n",
       "      <th>Yield</th>\n",
       "    </tr>\n",
       "  </thead>\n",
       "  <tbody>\n",
       "    <tr>\n",
       "      <th>0</th>\n",
       "      <td>Andaman and Nicobar Islands</td>\n",
       "      <td>NICOBARS</td>\n",
       "      <td>Arecanut</td>\n",
       "      <td>2001</td>\n",
       "      <td>1.643541</td>\n",
       "    </tr>\n",
       "    <tr>\n",
       "      <th>1</th>\n",
       "      <td>Andaman and Nicobar Islands</td>\n",
       "      <td>NICOBARS</td>\n",
       "      <td>Arecanut</td>\n",
       "      <td>2002</td>\n",
       "      <td>1.655803</td>\n",
       "    </tr>\n",
       "    <tr>\n",
       "      <th>2</th>\n",
       "      <td>Andaman and Nicobar Islands</td>\n",
       "      <td>NICOBARS</td>\n",
       "      <td>Arecanut</td>\n",
       "      <td>2003</td>\n",
       "      <td>1.209358</td>\n",
       "    </tr>\n",
       "    <tr>\n",
       "      <th>3</th>\n",
       "      <td>Andaman and Nicobar Islands</td>\n",
       "      <td>NORTH AND MIDDLE ANDAMAN</td>\n",
       "      <td>Arecanut</td>\n",
       "      <td>2001</td>\n",
       "      <td>1.690000</td>\n",
       "    </tr>\n",
       "    <tr>\n",
       "      <th>4</th>\n",
       "      <td>Andaman and Nicobar Islands</td>\n",
       "      <td>SOUTH ANDAMANS</td>\n",
       "      <td>Arecanut</td>\n",
       "      <td>2002</td>\n",
       "      <td>1.696296</td>\n",
       "    </tr>\n",
       "  </tbody>\n",
       "</table>\n",
       "</div>"
      ],
      "text/plain": [
       "                         State                  District      Crop  Year  \\\n",
       "0  Andaman and Nicobar Islands                  NICOBARS  Arecanut  2001   \n",
       "1  Andaman and Nicobar Islands                  NICOBARS  Arecanut  2002   \n",
       "2  Andaman and Nicobar Islands                  NICOBARS  Arecanut  2003   \n",
       "3  Andaman and Nicobar Islands  NORTH AND MIDDLE ANDAMAN  Arecanut  2001   \n",
       "4  Andaman and Nicobar Islands            SOUTH ANDAMANS  Arecanut  2002   \n",
       "\n",
       "      Yield  \n",
       "0  1.643541  \n",
       "1  1.655803  \n",
       "2  1.209358  \n",
       "3  1.690000  \n",
       "4  1.696296  "
      ]
     },
     "execution_count": 10,
     "metadata": {},
     "output_type": "execute_result"
    }
   ],
   "source": [
    "df1.head()"
   ]
  },
  {
   "cell_type": "code",
   "execution_count": 11,
   "id": "7bb2d720",
   "metadata": {},
   "outputs": [
    {
     "data": {
      "text/html": [
       "<div>\n",
       "<style scoped>\n",
       "    .dataframe tbody tr th:only-of-type {\n",
       "        vertical-align: middle;\n",
       "    }\n",
       "\n",
       "    .dataframe tbody tr th {\n",
       "        vertical-align: top;\n",
       "    }\n",
       "\n",
       "    .dataframe thead th {\n",
       "        text-align: right;\n",
       "    }\n",
       "</style>\n",
       "<table border=\"1\" class=\"dataframe\">\n",
       "  <thead>\n",
       "    <tr style=\"text-align: right;\">\n",
       "      <th></th>\n",
       "      <th>Year</th>\n",
       "      <th>Yield</th>\n",
       "    </tr>\n",
       "  </thead>\n",
       "  <tbody>\n",
       "    <tr>\n",
       "      <th>count</th>\n",
       "      <td>345407.000000</td>\n",
       "      <td>345374.000000</td>\n",
       "    </tr>\n",
       "    <tr>\n",
       "      <th>mean</th>\n",
       "      <td>2008.888097</td>\n",
       "      <td>79.407569</td>\n",
       "    </tr>\n",
       "    <tr>\n",
       "      <th>std</th>\n",
       "      <td>6.564755</td>\n",
       "      <td>916.628744</td>\n",
       "    </tr>\n",
       "    <tr>\n",
       "      <th>min</th>\n",
       "      <td>1997.000000</td>\n",
       "      <td>0.000000</td>\n",
       "    </tr>\n",
       "    <tr>\n",
       "      <th>25%</th>\n",
       "      <td>2003.000000</td>\n",
       "      <td>0.546742</td>\n",
       "    </tr>\n",
       "    <tr>\n",
       "      <th>50%</th>\n",
       "      <td>2009.000000</td>\n",
       "      <td>1.000000</td>\n",
       "    </tr>\n",
       "    <tr>\n",
       "      <th>75%</th>\n",
       "      <td>2015.000000</td>\n",
       "      <td>2.467080</td>\n",
       "    </tr>\n",
       "    <tr>\n",
       "      <th>max</th>\n",
       "      <td>2020.000000</td>\n",
       "      <td>43958.333333</td>\n",
       "    </tr>\n",
       "  </tbody>\n",
       "</table>\n",
       "</div>"
      ],
      "text/plain": [
       "                Year          Yield\n",
       "count  345407.000000  345374.000000\n",
       "mean     2008.888097      79.407569\n",
       "std         6.564755     916.628744\n",
       "min      1997.000000       0.000000\n",
       "25%      2003.000000       0.546742\n",
       "50%      2009.000000       1.000000\n",
       "75%      2015.000000       2.467080\n",
       "max      2020.000000   43958.333333"
      ]
     },
     "execution_count": 11,
     "metadata": {},
     "output_type": "execute_result"
    }
   ],
   "source": [
    "df1.describe()"
   ]
  },
  {
   "cell_type": "code",
   "execution_count": 12,
   "id": "d2313594",
   "metadata": {},
   "outputs": [
    {
     "name": "stdout",
     "output_type": "stream",
     "text": [
      "<class 'pandas.core.frame.DataFrame'>\n",
      "RangeIndex: 345407 entries, 0 to 345406\n",
      "Data columns (total 5 columns):\n",
      " #   Column    Non-Null Count   Dtype  \n",
      "---  ------    --------------   -----  \n",
      " 0   State     345407 non-null  object \n",
      " 1   District  345407 non-null  object \n",
      " 2   Crop      345375 non-null  object \n",
      " 3   Year      345407 non-null  int32  \n",
      " 4   Yield     345374 non-null  float64\n",
      "dtypes: float64(1), int32(1), object(3)\n",
      "memory usage: 11.9+ MB\n"
     ]
    }
   ],
   "source": [
    "df1.info()"
   ]
  },
  {
   "cell_type": "code",
   "execution_count": 13,
   "id": "9aef04d5",
   "metadata": {},
   "outputs": [
    {
     "data": {
      "text/html": [
       "<div>\n",
       "<style scoped>\n",
       "    .dataframe tbody tr th:only-of-type {\n",
       "        vertical-align: middle;\n",
       "    }\n",
       "\n",
       "    .dataframe tbody tr th {\n",
       "        vertical-align: top;\n",
       "    }\n",
       "\n",
       "    .dataframe thead th {\n",
       "        text-align: right;\n",
       "    }\n",
       "</style>\n",
       "<table border=\"1\" class=\"dataframe\">\n",
       "  <thead>\n",
       "    <tr style=\"text-align: right;\">\n",
       "      <th></th>\n",
       "      <th>FID</th>\n",
       "      <th>State</th>\n",
       "      <th>District</th>\n",
       "      <th>Year</th>\n",
       "      <th>Jan</th>\n",
       "      <th>Feb</th>\n",
       "      <th>Mar</th>\n",
       "      <th>Apr</th>\n",
       "      <th>May</th>\n",
       "      <th>Jun</th>\n",
       "      <th>...</th>\n",
       "      <th>Aug</th>\n",
       "      <th>Sep</th>\n",
       "      <th>Oct</th>\n",
       "      <th>Nov</th>\n",
       "      <th>Dec</th>\n",
       "      <th>Total</th>\n",
       "      <th>Monsoon</th>\n",
       "      <th>IMD_36</th>\n",
       "      <th>final_annual</th>\n",
       "      <th>final_jjas</th>\n",
       "    </tr>\n",
       "  </thead>\n",
       "  <tbody>\n",
       "    <tr>\n",
       "      <th>0</th>\n",
       "      <td>3</td>\n",
       "      <td>TELANGANA</td>\n",
       "      <td>ADILABAD</td>\n",
       "      <td>1901</td>\n",
       "      <td>6.725</td>\n",
       "      <td>10.488</td>\n",
       "      <td>23.288</td>\n",
       "      <td>35.560</td>\n",
       "      <td>23.119</td>\n",
       "      <td>115.546</td>\n",
       "      <td>...</td>\n",
       "      <td>276.865</td>\n",
       "      <td>181.615</td>\n",
       "      <td>47.310</td>\n",
       "      <td>1.339</td>\n",
       "      <td>0.000</td>\n",
       "      <td>1015.974</td>\n",
       "      <td>868.145</td>\n",
       "      <td>31</td>\n",
       "      <td>1015.974</td>\n",
       "      <td>868.145</td>\n",
       "    </tr>\n",
       "    <tr>\n",
       "      <th>1</th>\n",
       "      <td>3</td>\n",
       "      <td>TELANGANA</td>\n",
       "      <td>ADILABAD</td>\n",
       "      <td>1902</td>\n",
       "      <td>0.420</td>\n",
       "      <td>0.000</td>\n",
       "      <td>0.388</td>\n",
       "      <td>6.070</td>\n",
       "      <td>3.331</td>\n",
       "      <td>45.960</td>\n",
       "      <td>...</td>\n",
       "      <td>167.971</td>\n",
       "      <td>198.177</td>\n",
       "      <td>26.447</td>\n",
       "      <td>35.083</td>\n",
       "      <td>11.222</td>\n",
       "      <td>729.042</td>\n",
       "      <td>646.081</td>\n",
       "      <td>31</td>\n",
       "      <td>729.042</td>\n",
       "      <td>646.081</td>\n",
       "    </tr>\n",
       "    <tr>\n",
       "      <th>2</th>\n",
       "      <td>3</td>\n",
       "      <td>TELANGANA</td>\n",
       "      <td>ADILABAD</td>\n",
       "      <td>1903</td>\n",
       "      <td>6.643</td>\n",
       "      <td>1.956</td>\n",
       "      <td>0.173</td>\n",
       "      <td>4.551</td>\n",
       "      <td>33.348</td>\n",
       "      <td>132.078</td>\n",
       "      <td>...</td>\n",
       "      <td>334.544</td>\n",
       "      <td>226.037</td>\n",
       "      <td>138.818</td>\n",
       "      <td>14.095</td>\n",
       "      <td>8.823</td>\n",
       "      <td>1337.677</td>\n",
       "      <td>1129.270</td>\n",
       "      <td>31</td>\n",
       "      <td>1337.677</td>\n",
       "      <td>1129.270</td>\n",
       "    </tr>\n",
       "    <tr>\n",
       "      <th>3</th>\n",
       "      <td>3</td>\n",
       "      <td>TELANGANA</td>\n",
       "      <td>ADILABAD</td>\n",
       "      <td>1904</td>\n",
       "      <td>0.054</td>\n",
       "      <td>0.121</td>\n",
       "      <td>11.446</td>\n",
       "      <td>0.017</td>\n",
       "      <td>16.900</td>\n",
       "      <td>131.048</td>\n",
       "      <td>...</td>\n",
       "      <td>81.865</td>\n",
       "      <td>251.577</td>\n",
       "      <td>110.391</td>\n",
       "      <td>0.146</td>\n",
       "      <td>0.130</td>\n",
       "      <td>764.389</td>\n",
       "      <td>625.184</td>\n",
       "      <td>31</td>\n",
       "      <td>764.389</td>\n",
       "      <td>625.184</td>\n",
       "    </tr>\n",
       "    <tr>\n",
       "      <th>4</th>\n",
       "      <td>3</td>\n",
       "      <td>TELANGANA</td>\n",
       "      <td>ADILABAD</td>\n",
       "      <td>1905</td>\n",
       "      <td>0.589</td>\n",
       "      <td>2.293</td>\n",
       "      <td>8.252</td>\n",
       "      <td>35.020</td>\n",
       "      <td>17.569</td>\n",
       "      <td>79.937</td>\n",
       "      <td>...</td>\n",
       "      <td>313.522</td>\n",
       "      <td>361.697</td>\n",
       "      <td>4.950</td>\n",
       "      <td>0.146</td>\n",
       "      <td>0.000</td>\n",
       "      <td>920.306</td>\n",
       "      <td>851.487</td>\n",
       "      <td>31</td>\n",
       "      <td>920.306</td>\n",
       "      <td>851.487</td>\n",
       "    </tr>\n",
       "  </tbody>\n",
       "</table>\n",
       "<p>5 rows × 21 columns</p>\n",
       "</div>"
      ],
      "text/plain": [
       "  FID      State  District  Year    Jan     Feb     Mar     Apr     May  \\\n",
       "0   3  TELANGANA  ADILABAD  1901  6.725  10.488  23.288  35.560  23.119   \n",
       "1   3  TELANGANA  ADILABAD  1902  0.420   0.000   0.388   6.070   3.331   \n",
       "2   3  TELANGANA  ADILABAD  1903  6.643   1.956   0.173   4.551  33.348   \n",
       "3   3  TELANGANA  ADILABAD  1904  0.054   0.121  11.446   0.017  16.900   \n",
       "4   3  TELANGANA  ADILABAD  1905  0.589   2.293   8.252  35.020  17.569   \n",
       "\n",
       "       Jun  ...      Aug      Sep      Oct     Nov     Dec     Total  \\\n",
       "0  115.546  ...  276.865  181.615   47.310   1.339   0.000  1015.974   \n",
       "1   45.960  ...  167.971  198.177   26.447  35.083  11.222   729.042   \n",
       "2  132.078  ...  334.544  226.037  138.818  14.095   8.823  1337.677   \n",
       "3  131.048  ...   81.865  251.577  110.391   0.146   0.130   764.389   \n",
       "4   79.937  ...  313.522  361.697    4.950   0.146   0.000   920.306   \n",
       "\n",
       "    Monsoon  IMD_36  final_annual  final_jjas  \n",
       "0   868.145      31      1015.974     868.145  \n",
       "1   646.081      31       729.042     646.081  \n",
       "2  1129.270      31      1337.677    1129.270  \n",
       "3   625.184      31       764.389     625.184  \n",
       "4   851.487      31       920.306     851.487  \n",
       "\n",
       "[5 rows x 21 columns]"
      ]
     },
     "execution_count": 13,
     "metadata": {},
     "output_type": "execute_result"
    }
   ],
   "source": [
    "df_rainraw = pd.read_csv('Monthly District Avg RainFall 1901 - 2017-Copy1.csv')\n",
    "df_rainraw.head()"
   ]
  },
  {
   "cell_type": "code",
   "execution_count": 14,
   "id": "6696f76a",
   "metadata": {},
   "outputs": [],
   "source": [
    "unwanted_columns = ['FID', 'Jan', 'Feb', 'Mar', 'Apr', 'May','Jun','Jul','Aug','Sep','Oct','Nov','Dec','Total','Monsoon','IMD_36','final_jjas']\n",
    "df_rainraw.drop(columns=unwanted_columns, inplace=True)\n",
    "df_rainraw.to_csv(\"modified_csv_file_rain.csv\", index=False)"
   ]
  },
  {
   "cell_type": "code",
   "execution_count": 15,
   "id": "2adf3811",
   "metadata": {},
   "outputs": [
    {
     "data": {
      "text/html": [
       "<div>\n",
       "<style scoped>\n",
       "    .dataframe tbody tr th:only-of-type {\n",
       "        vertical-align: middle;\n",
       "    }\n",
       "\n",
       "    .dataframe tbody tr th {\n",
       "        vertical-align: top;\n",
       "    }\n",
       "\n",
       "    .dataframe thead th {\n",
       "        text-align: right;\n",
       "    }\n",
       "</style>\n",
       "<table border=\"1\" class=\"dataframe\">\n",
       "  <thead>\n",
       "    <tr style=\"text-align: right;\">\n",
       "      <th></th>\n",
       "      <th>State</th>\n",
       "      <th>District</th>\n",
       "      <th>Year</th>\n",
       "      <th>final_annual</th>\n",
       "    </tr>\n",
       "  </thead>\n",
       "  <tbody>\n",
       "    <tr>\n",
       "      <th>0</th>\n",
       "      <td>TELANGANA</td>\n",
       "      <td>ADILABAD</td>\n",
       "      <td>1901</td>\n",
       "      <td>1015.974</td>\n",
       "    </tr>\n",
       "    <tr>\n",
       "      <th>1</th>\n",
       "      <td>TELANGANA</td>\n",
       "      <td>ADILABAD</td>\n",
       "      <td>1902</td>\n",
       "      <td>729.042</td>\n",
       "    </tr>\n",
       "    <tr>\n",
       "      <th>2</th>\n",
       "      <td>TELANGANA</td>\n",
       "      <td>ADILABAD</td>\n",
       "      <td>1903</td>\n",
       "      <td>1337.677</td>\n",
       "    </tr>\n",
       "    <tr>\n",
       "      <th>3</th>\n",
       "      <td>TELANGANA</td>\n",
       "      <td>ADILABAD</td>\n",
       "      <td>1904</td>\n",
       "      <td>764.389</td>\n",
       "    </tr>\n",
       "    <tr>\n",
       "      <th>4</th>\n",
       "      <td>TELANGANA</td>\n",
       "      <td>ADILABAD</td>\n",
       "      <td>1905</td>\n",
       "      <td>920.306</td>\n",
       "    </tr>\n",
       "  </tbody>\n",
       "</table>\n",
       "</div>"
      ],
      "text/plain": [
       "       State  District  Year  final_annual\n",
       "0  TELANGANA  ADILABAD  1901      1015.974\n",
       "1  TELANGANA  ADILABAD  1902       729.042\n",
       "2  TELANGANA  ADILABAD  1903      1337.677\n",
       "3  TELANGANA  ADILABAD  1904       764.389\n",
       "4  TELANGANA  ADILABAD  1905       920.306"
      ]
     },
     "execution_count": 15,
     "metadata": {},
     "output_type": "execute_result"
    }
   ],
   "source": [
    "df_rain = pd.read_csv('modified_csv_file_rain.csv')\n",
    "df_rain.head()"
   ]
  },
  {
   "cell_type": "code",
   "execution_count": 16,
   "id": "929d01a4",
   "metadata": {},
   "outputs": [
    {
     "data": {
      "text/html": [
       "<div>\n",
       "<style scoped>\n",
       "    .dataframe tbody tr th:only-of-type {\n",
       "        vertical-align: middle;\n",
       "    }\n",
       "\n",
       "    .dataframe tbody tr th {\n",
       "        vertical-align: top;\n",
       "    }\n",
       "\n",
       "    .dataframe thead th {\n",
       "        text-align: right;\n",
       "    }\n",
       "</style>\n",
       "<table border=\"1\" class=\"dataframe\">\n",
       "  <thead>\n",
       "    <tr style=\"text-align: right;\">\n",
       "      <th></th>\n",
       "      <th>Year</th>\n",
       "      <th>final_annual</th>\n",
       "    </tr>\n",
       "  </thead>\n",
       "  <tbody>\n",
       "    <tr>\n",
       "      <th>count</th>\n",
       "      <td>77807.000000</td>\n",
       "      <td>77807.000000</td>\n",
       "    </tr>\n",
       "    <tr>\n",
       "      <th>mean</th>\n",
       "      <td>1959.002879</td>\n",
       "      <td>1280.141807</td>\n",
       "    </tr>\n",
       "    <tr>\n",
       "      <th>std</th>\n",
       "      <td>33.774743</td>\n",
       "      <td>867.529448</td>\n",
       "    </tr>\n",
       "    <tr>\n",
       "      <th>min</th>\n",
       "      <td>1900.000000</td>\n",
       "      <td>0.000000</td>\n",
       "    </tr>\n",
       "    <tr>\n",
       "      <th>25%</th>\n",
       "      <td>1930.000000</td>\n",
       "      <td>747.368500</td>\n",
       "    </tr>\n",
       "    <tr>\n",
       "      <th>50%</th>\n",
       "      <td>1959.000000</td>\n",
       "      <td>1069.793000</td>\n",
       "    </tr>\n",
       "    <tr>\n",
       "      <th>75%</th>\n",
       "      <td>1988.000000</td>\n",
       "      <td>1501.398187</td>\n",
       "    </tr>\n",
       "    <tr>\n",
       "      <th>max</th>\n",
       "      <td>2019.000000</td>\n",
       "      <td>11356.226000</td>\n",
       "    </tr>\n",
       "  </tbody>\n",
       "</table>\n",
       "</div>"
      ],
      "text/plain": [
       "               Year  final_annual\n",
       "count  77807.000000  77807.000000\n",
       "mean    1959.002879   1280.141807\n",
       "std       33.774743    867.529448\n",
       "min     1900.000000      0.000000\n",
       "25%     1930.000000    747.368500\n",
       "50%     1959.000000   1069.793000\n",
       "75%     1988.000000   1501.398187\n",
       "max     2019.000000  11356.226000"
      ]
     },
     "execution_count": 16,
     "metadata": {},
     "output_type": "execute_result"
    }
   ],
   "source": [
    "df_rain.describe()"
   ]
  },
  {
   "cell_type": "code",
   "execution_count": 17,
   "id": "f5b13313",
   "metadata": {},
   "outputs": [
    {
     "data": {
      "text/plain": [
       "(77807, 4)"
      ]
     },
     "execution_count": 17,
     "metadata": {},
     "output_type": "execute_result"
    }
   ],
   "source": [
    "df_rain.shape"
   ]
  },
  {
   "cell_type": "code",
   "execution_count": 18,
   "id": "06e99183",
   "metadata": {},
   "outputs": [
    {
     "data": {
      "text/plain": [
       "State           0\n",
       "District        0\n",
       "Year            0\n",
       "final_annual    0\n",
       "dtype: int64"
      ]
     },
     "execution_count": 18,
     "metadata": {},
     "output_type": "execute_result"
    }
   ],
   "source": [
    "df_rain.isnull().sum()"
   ]
  },
  {
   "cell_type": "code",
   "execution_count": 19,
   "id": "956f3d60",
   "metadata": {},
   "outputs": [
    {
     "name": "stdout",
     "output_type": "stream",
     "text": [
      "<class 'pandas.core.frame.DataFrame'>\n",
      "RangeIndex: 77807 entries, 0 to 77806\n",
      "Data columns (total 4 columns):\n",
      " #   Column        Non-Null Count  Dtype  \n",
      "---  ------        --------------  -----  \n",
      " 0   State         77807 non-null  object \n",
      " 1   District      77807 non-null  object \n",
      " 2   Year          77807 non-null  int64  \n",
      " 3   final_annual  77807 non-null  float64\n",
      "dtypes: float64(1), int64(1), object(2)\n",
      "memory usage: 2.4+ MB\n"
     ]
    }
   ],
   "source": [
    "df_rain.info()"
   ]
  },
  {
   "cell_type": "code",
   "execution_count": 20,
   "id": "bb2d6d0e",
   "metadata": {},
   "outputs": [
    {
     "data": {
      "text/html": [
       "<div>\n",
       "<style scoped>\n",
       "    .dataframe tbody tr th:only-of-type {\n",
       "        vertical-align: middle;\n",
       "    }\n",
       "\n",
       "    .dataframe tbody tr th {\n",
       "        vertical-align: top;\n",
       "    }\n",
       "\n",
       "    .dataframe thead th {\n",
       "        text-align: right;\n",
       "    }\n",
       "</style>\n",
       "<table border=\"1\" class=\"dataframe\">\n",
       "  <thead>\n",
       "    <tr style=\"text-align: right;\">\n",
       "      <th></th>\n",
       "      <th>State</th>\n",
       "      <th>District</th>\n",
       "      <th>Year</th>\n",
       "      <th>avg_rainfall</th>\n",
       "    </tr>\n",
       "  </thead>\n",
       "  <tbody>\n",
       "    <tr>\n",
       "      <th>0</th>\n",
       "      <td>TELANGANA</td>\n",
       "      <td>ADILABAD</td>\n",
       "      <td>1901</td>\n",
       "      <td>1015.974</td>\n",
       "    </tr>\n",
       "    <tr>\n",
       "      <th>1</th>\n",
       "      <td>TELANGANA</td>\n",
       "      <td>ADILABAD</td>\n",
       "      <td>1902</td>\n",
       "      <td>729.042</td>\n",
       "    </tr>\n",
       "    <tr>\n",
       "      <th>2</th>\n",
       "      <td>TELANGANA</td>\n",
       "      <td>ADILABAD</td>\n",
       "      <td>1903</td>\n",
       "      <td>1337.677</td>\n",
       "    </tr>\n",
       "    <tr>\n",
       "      <th>3</th>\n",
       "      <td>TELANGANA</td>\n",
       "      <td>ADILABAD</td>\n",
       "      <td>1904</td>\n",
       "      <td>764.389</td>\n",
       "    </tr>\n",
       "    <tr>\n",
       "      <th>4</th>\n",
       "      <td>TELANGANA</td>\n",
       "      <td>ADILABAD</td>\n",
       "      <td>1905</td>\n",
       "      <td>920.306</td>\n",
       "    </tr>\n",
       "  </tbody>\n",
       "</table>\n",
       "</div>"
      ],
      "text/plain": [
       "       State  District  Year  avg_rainfall\n",
       "0  TELANGANA  ADILABAD  1901      1015.974\n",
       "1  TELANGANA  ADILABAD  1902       729.042\n",
       "2  TELANGANA  ADILABAD  1903      1337.677\n",
       "3  TELANGANA  ADILABAD  1904       764.389\n",
       "4  TELANGANA  ADILABAD  1905       920.306"
      ]
     },
     "execution_count": 20,
     "metadata": {},
     "output_type": "execute_result"
    }
   ],
   "source": [
    "df_rain.rename( columns={\"final_annual\": \"avg_rainfall\"}, inplace=True)  \n",
    "df_rain.head()"
   ]
  },
  {
   "cell_type": "code",
   "execution_count": 21,
   "id": "bacb9b32",
   "metadata": {},
   "outputs": [],
   "source": [
    "df1['State'] = df1['State'].str.upper()"
   ]
  },
  {
   "cell_type": "code",
   "execution_count": 22,
   "id": "ee481350",
   "metadata": {},
   "outputs": [
    {
     "data": {
      "text/html": [
       "<div>\n",
       "<style scoped>\n",
       "    .dataframe tbody tr th:only-of-type {\n",
       "        vertical-align: middle;\n",
       "    }\n",
       "\n",
       "    .dataframe tbody tr th {\n",
       "        vertical-align: top;\n",
       "    }\n",
       "\n",
       "    .dataframe thead th {\n",
       "        text-align: right;\n",
       "    }\n",
       "</style>\n",
       "<table border=\"1\" class=\"dataframe\">\n",
       "  <thead>\n",
       "    <tr style=\"text-align: right;\">\n",
       "      <th></th>\n",
       "      <th>State</th>\n",
       "      <th>District</th>\n",
       "      <th>Crop</th>\n",
       "      <th>Year</th>\n",
       "      <th>Yield</th>\n",
       "    </tr>\n",
       "  </thead>\n",
       "  <tbody>\n",
       "    <tr>\n",
       "      <th>0</th>\n",
       "      <td>ANDAMAN AND NICOBAR ISLANDS</td>\n",
       "      <td>NICOBARS</td>\n",
       "      <td>Arecanut</td>\n",
       "      <td>2001</td>\n",
       "      <td>1.643541</td>\n",
       "    </tr>\n",
       "    <tr>\n",
       "      <th>1</th>\n",
       "      <td>ANDAMAN AND NICOBAR ISLANDS</td>\n",
       "      <td>NICOBARS</td>\n",
       "      <td>Arecanut</td>\n",
       "      <td>2002</td>\n",
       "      <td>1.655803</td>\n",
       "    </tr>\n",
       "    <tr>\n",
       "      <th>2</th>\n",
       "      <td>ANDAMAN AND NICOBAR ISLANDS</td>\n",
       "      <td>NICOBARS</td>\n",
       "      <td>Arecanut</td>\n",
       "      <td>2003</td>\n",
       "      <td>1.209358</td>\n",
       "    </tr>\n",
       "    <tr>\n",
       "      <th>3</th>\n",
       "      <td>ANDAMAN AND NICOBAR ISLANDS</td>\n",
       "      <td>NORTH AND MIDDLE ANDAMAN</td>\n",
       "      <td>Arecanut</td>\n",
       "      <td>2001</td>\n",
       "      <td>1.690000</td>\n",
       "    </tr>\n",
       "    <tr>\n",
       "      <th>4</th>\n",
       "      <td>ANDAMAN AND NICOBAR ISLANDS</td>\n",
       "      <td>SOUTH ANDAMANS</td>\n",
       "      <td>Arecanut</td>\n",
       "      <td>2002</td>\n",
       "      <td>1.696296</td>\n",
       "    </tr>\n",
       "  </tbody>\n",
       "</table>\n",
       "</div>"
      ],
      "text/plain": [
       "                         State                  District      Crop  Year  \\\n",
       "0  ANDAMAN AND NICOBAR ISLANDS                  NICOBARS  Arecanut  2001   \n",
       "1  ANDAMAN AND NICOBAR ISLANDS                  NICOBARS  Arecanut  2002   \n",
       "2  ANDAMAN AND NICOBAR ISLANDS                  NICOBARS  Arecanut  2003   \n",
       "3  ANDAMAN AND NICOBAR ISLANDS  NORTH AND MIDDLE ANDAMAN  Arecanut  2001   \n",
       "4  ANDAMAN AND NICOBAR ISLANDS            SOUTH ANDAMANS  Arecanut  2002   \n",
       "\n",
       "      Yield  \n",
       "0  1.643541  \n",
       "1  1.655803  \n",
       "2  1.209358  \n",
       "3  1.690000  \n",
       "4  1.696296  "
      ]
     },
     "execution_count": 22,
     "metadata": {},
     "output_type": "execute_result"
    }
   ],
   "source": [
    "df1.head()"
   ]
  },
  {
   "cell_type": "code",
   "execution_count": 23,
   "id": "98afb491",
   "metadata": {},
   "outputs": [
    {
     "data": {
      "text/html": [
       "<div>\n",
       "<style scoped>\n",
       "    .dataframe tbody tr th:only-of-type {\n",
       "        vertical-align: middle;\n",
       "    }\n",
       "\n",
       "    .dataframe tbody tr th {\n",
       "        vertical-align: top;\n",
       "    }\n",
       "\n",
       "    .dataframe thead th {\n",
       "        text-align: right;\n",
       "    }\n",
       "</style>\n",
       "<table border=\"1\" class=\"dataframe\">\n",
       "  <thead>\n",
       "    <tr style=\"text-align: right;\">\n",
       "      <th></th>\n",
       "      <th>Unnamed: 0</th>\n",
       "      <th>Year</th>\n",
       "      <th>Average</th>\n",
       "      <th>District</th>\n",
       "    </tr>\n",
       "  </thead>\n",
       "  <tbody>\n",
       "    <tr>\n",
       "      <th>0</th>\n",
       "      <td>0</td>\n",
       "      <td>1912</td>\n",
       "      <td>21.096</td>\n",
       "      <td>Adilabad</td>\n",
       "    </tr>\n",
       "    <tr>\n",
       "      <th>1</th>\n",
       "      <td>1</td>\n",
       "      <td>1913</td>\n",
       "      <td>21.260</td>\n",
       "      <td>Adilabad</td>\n",
       "    </tr>\n",
       "    <tr>\n",
       "      <th>2</th>\n",
       "      <td>2</td>\n",
       "      <td>1914</td>\n",
       "      <td>20.216</td>\n",
       "      <td>Adilabad</td>\n",
       "    </tr>\n",
       "    <tr>\n",
       "      <th>3</th>\n",
       "      <td>3</td>\n",
       "      <td>1915</td>\n",
       "      <td>20.894</td>\n",
       "      <td>Adilabad</td>\n",
       "    </tr>\n",
       "    <tr>\n",
       "      <th>4</th>\n",
       "      <td>4</td>\n",
       "      <td>1916</td>\n",
       "      <td>20.526</td>\n",
       "      <td>Adilabad</td>\n",
       "    </tr>\n",
       "  </tbody>\n",
       "</table>\n",
       "</div>"
      ],
      "text/plain": [
       "   Unnamed: 0  Year  Average  District\n",
       "0           0  1912   21.096  Adilabad\n",
       "1           1  1913   21.260  Adilabad\n",
       "2           2  1914   20.216  Adilabad\n",
       "3           3  1915   20.894  Adilabad\n",
       "4           4  1916   20.526  Adilabad"
      ]
     },
     "execution_count": 23,
     "metadata": {},
     "output_type": "execute_result"
    }
   ],
   "source": [
    "df_tempraw = pd.read_csv('Temperature(1).csv')\n",
    "df_tempraw.head()"
   ]
  },
  {
   "cell_type": "code",
   "execution_count": 24,
   "id": "a01ad81a",
   "metadata": {},
   "outputs": [],
   "source": [
    "df_tempraw['District'] = df_tempraw['District'].str.upper()"
   ]
  },
  {
   "cell_type": "code",
   "execution_count": 25,
   "id": "4b98ca5a",
   "metadata": {},
   "outputs": [
    {
     "data": {
      "text/html": [
       "<div>\n",
       "<style scoped>\n",
       "    .dataframe tbody tr th:only-of-type {\n",
       "        vertical-align: middle;\n",
       "    }\n",
       "\n",
       "    .dataframe tbody tr th {\n",
       "        vertical-align: top;\n",
       "    }\n",
       "\n",
       "    .dataframe thead th {\n",
       "        text-align: right;\n",
       "    }\n",
       "</style>\n",
       "<table border=\"1\" class=\"dataframe\">\n",
       "  <thead>\n",
       "    <tr style=\"text-align: right;\">\n",
       "      <th></th>\n",
       "      <th>Unnamed: 0</th>\n",
       "      <th>Year</th>\n",
       "      <th>Average</th>\n",
       "      <th>District</th>\n",
       "    </tr>\n",
       "  </thead>\n",
       "  <tbody>\n",
       "    <tr>\n",
       "      <th>0</th>\n",
       "      <td>0</td>\n",
       "      <td>1912</td>\n",
       "      <td>21.096</td>\n",
       "      <td>ADILABAD</td>\n",
       "    </tr>\n",
       "    <tr>\n",
       "      <th>1</th>\n",
       "      <td>1</td>\n",
       "      <td>1913</td>\n",
       "      <td>21.260</td>\n",
       "      <td>ADILABAD</td>\n",
       "    </tr>\n",
       "    <tr>\n",
       "      <th>2</th>\n",
       "      <td>2</td>\n",
       "      <td>1914</td>\n",
       "      <td>20.216</td>\n",
       "      <td>ADILABAD</td>\n",
       "    </tr>\n",
       "    <tr>\n",
       "      <th>3</th>\n",
       "      <td>3</td>\n",
       "      <td>1915</td>\n",
       "      <td>20.894</td>\n",
       "      <td>ADILABAD</td>\n",
       "    </tr>\n",
       "    <tr>\n",
       "      <th>4</th>\n",
       "      <td>4</td>\n",
       "      <td>1916</td>\n",
       "      <td>20.526</td>\n",
       "      <td>ADILABAD</td>\n",
       "    </tr>\n",
       "  </tbody>\n",
       "</table>\n",
       "</div>"
      ],
      "text/plain": [
       "   Unnamed: 0  Year  Average  District\n",
       "0           0  1912   21.096  ADILABAD\n",
       "1           1  1913   21.260  ADILABAD\n",
       "2           2  1914   20.216  ADILABAD\n",
       "3           3  1915   20.894  ADILABAD\n",
       "4           4  1916   20.526  ADILABAD"
      ]
     },
     "execution_count": 25,
     "metadata": {},
     "output_type": "execute_result"
    }
   ],
   "source": [
    "df_tempraw.head()"
   ]
  },
  {
   "cell_type": "code",
   "execution_count": 26,
   "id": "67fa3384",
   "metadata": {},
   "outputs": [],
   "source": [
    "df_tempraw.rename( columns={\"Average\": \"Avg_Temp\"}, inplace=True)"
   ]
  },
  {
   "cell_type": "code",
   "execution_count": 27,
   "id": "74079b64",
   "metadata": {},
   "outputs": [
    {
     "data": {
      "text/html": [
       "<div>\n",
       "<style scoped>\n",
       "    .dataframe tbody tr th:only-of-type {\n",
       "        vertical-align: middle;\n",
       "    }\n",
       "\n",
       "    .dataframe tbody tr th {\n",
       "        vertical-align: top;\n",
       "    }\n",
       "\n",
       "    .dataframe thead th {\n",
       "        text-align: right;\n",
       "    }\n",
       "</style>\n",
       "<table border=\"1\" class=\"dataframe\">\n",
       "  <thead>\n",
       "    <tr style=\"text-align: right;\">\n",
       "      <th></th>\n",
       "      <th>Unnamed: 0</th>\n",
       "      <th>Year</th>\n",
       "      <th>Avg_Temp</th>\n",
       "      <th>District</th>\n",
       "    </tr>\n",
       "  </thead>\n",
       "  <tbody>\n",
       "    <tr>\n",
       "      <th>0</th>\n",
       "      <td>0</td>\n",
       "      <td>1912</td>\n",
       "      <td>21.096</td>\n",
       "      <td>ADILABAD</td>\n",
       "    </tr>\n",
       "    <tr>\n",
       "      <th>1</th>\n",
       "      <td>1</td>\n",
       "      <td>1913</td>\n",
       "      <td>21.260</td>\n",
       "      <td>ADILABAD</td>\n",
       "    </tr>\n",
       "    <tr>\n",
       "      <th>2</th>\n",
       "      <td>2</td>\n",
       "      <td>1914</td>\n",
       "      <td>20.216</td>\n",
       "      <td>ADILABAD</td>\n",
       "    </tr>\n",
       "    <tr>\n",
       "      <th>3</th>\n",
       "      <td>3</td>\n",
       "      <td>1915</td>\n",
       "      <td>20.894</td>\n",
       "      <td>ADILABAD</td>\n",
       "    </tr>\n",
       "    <tr>\n",
       "      <th>4</th>\n",
       "      <td>4</td>\n",
       "      <td>1916</td>\n",
       "      <td>20.526</td>\n",
       "      <td>ADILABAD</td>\n",
       "    </tr>\n",
       "  </tbody>\n",
       "</table>\n",
       "</div>"
      ],
      "text/plain": [
       "   Unnamed: 0  Year  Avg_Temp  District\n",
       "0           0  1912    21.096  ADILABAD\n",
       "1           1  1913    21.260  ADILABAD\n",
       "2           2  1914    20.216  ADILABAD\n",
       "3           3  1915    20.894  ADILABAD\n",
       "4           4  1916    20.526  ADILABAD"
      ]
     },
     "execution_count": 27,
     "metadata": {},
     "output_type": "execute_result"
    }
   ],
   "source": [
    "df_tempraw.head()"
   ]
  },
  {
   "cell_type": "code",
   "execution_count": 28,
   "id": "3efdce1c",
   "metadata": {},
   "outputs": [],
   "source": [
    "unwanted_columns = ['Unnamed: 0']\n",
    "df_tempraw.drop(columns=unwanted_columns, inplace=True)"
   ]
  },
  {
   "cell_type": "code",
   "execution_count": 29,
   "id": "ab1f254f",
   "metadata": {},
   "outputs": [
    {
     "data": {
      "text/html": [
       "<div>\n",
       "<style scoped>\n",
       "    .dataframe tbody tr th:only-of-type {\n",
       "        vertical-align: middle;\n",
       "    }\n",
       "\n",
       "    .dataframe tbody tr th {\n",
       "        vertical-align: top;\n",
       "    }\n",
       "\n",
       "    .dataframe thead th {\n",
       "        text-align: right;\n",
       "    }\n",
       "</style>\n",
       "<table border=\"1\" class=\"dataframe\">\n",
       "  <thead>\n",
       "    <tr style=\"text-align: right;\">\n",
       "      <th></th>\n",
       "      <th>Year</th>\n",
       "      <th>Avg_Temp</th>\n",
       "      <th>District</th>\n",
       "    </tr>\n",
       "  </thead>\n",
       "  <tbody>\n",
       "    <tr>\n",
       "      <th>0</th>\n",
       "      <td>1912</td>\n",
       "      <td>21.096</td>\n",
       "      <td>ADILABAD</td>\n",
       "    </tr>\n",
       "    <tr>\n",
       "      <th>1</th>\n",
       "      <td>1913</td>\n",
       "      <td>21.260</td>\n",
       "      <td>ADILABAD</td>\n",
       "    </tr>\n",
       "    <tr>\n",
       "      <th>2</th>\n",
       "      <td>1914</td>\n",
       "      <td>20.216</td>\n",
       "      <td>ADILABAD</td>\n",
       "    </tr>\n",
       "    <tr>\n",
       "      <th>3</th>\n",
       "      <td>1915</td>\n",
       "      <td>20.894</td>\n",
       "      <td>ADILABAD</td>\n",
       "    </tr>\n",
       "    <tr>\n",
       "      <th>4</th>\n",
       "      <td>1916</td>\n",
       "      <td>20.526</td>\n",
       "      <td>ADILABAD</td>\n",
       "    </tr>\n",
       "  </tbody>\n",
       "</table>\n",
       "</div>"
      ],
      "text/plain": [
       "   Year  Avg_Temp  District\n",
       "0  1912    21.096  ADILABAD\n",
       "1  1913    21.260  ADILABAD\n",
       "2  1914    20.216  ADILABAD\n",
       "3  1915    20.894  ADILABAD\n",
       "4  1916    20.526  ADILABAD"
      ]
     },
     "execution_count": 29,
     "metadata": {},
     "output_type": "execute_result"
    }
   ],
   "source": [
    "df_tempraw.head()"
   ]
  },
  {
   "cell_type": "code",
   "execution_count": 30,
   "id": "c637885a",
   "metadata": {},
   "outputs": [
    {
     "name": "stdout",
     "output_type": "stream",
     "text": [
      "<class 'pandas.core.frame.DataFrame'>\n",
      "RangeIndex: 54774 entries, 0 to 54773\n",
      "Data columns (total 3 columns):\n",
      " #   Column    Non-Null Count  Dtype  \n",
      "---  ------    --------------  -----  \n",
      " 0   Year      54774 non-null  int64  \n",
      " 1   Avg_Temp  54774 non-null  float64\n",
      " 2   District  54774 non-null  object \n",
      "dtypes: float64(1), int64(1), object(1)\n",
      "memory usage: 1.3+ MB\n"
     ]
    }
   ],
   "source": [
    "df_tempraw.info()"
   ]
  },
  {
   "cell_type": "code",
   "execution_count": 31,
   "id": "e52eadc0",
   "metadata": {},
   "outputs": [],
   "source": [
    "df_rain = df_rain.dropna(how='all')"
   ]
  },
  {
   "cell_type": "code",
   "execution_count": 32,
   "id": "0f4c57eb",
   "metadata": {},
   "outputs": [],
   "source": [
    "df_tempraw = df_tempraw.dropna(how='all')"
   ]
  },
  {
   "cell_type": "code",
   "execution_count": 33,
   "id": "d37a5a28",
   "metadata": {},
   "outputs": [
    {
     "data": {
      "text/plain": [
       "(345407, 5)"
      ]
     },
     "execution_count": 33,
     "metadata": {},
     "output_type": "execute_result"
    }
   ],
   "source": [
    "df1.shape"
   ]
  },
  {
   "cell_type": "code",
   "execution_count": 34,
   "id": "4475b153",
   "metadata": {},
   "outputs": [
    {
     "data": {
      "text/plain": [
       "(77807, 4)"
      ]
     },
     "execution_count": 34,
     "metadata": {},
     "output_type": "execute_result"
    }
   ],
   "source": [
    "df_rain.shape"
   ]
  },
  {
   "cell_type": "code",
   "execution_count": 35,
   "id": "39fe2df6",
   "metadata": {},
   "outputs": [
    {
     "data": {
      "text/plain": [
       "(54774, 3)"
      ]
     },
     "execution_count": 35,
     "metadata": {},
     "output_type": "execute_result"
    }
   ],
   "source": [
    "df_tempraw.shape"
   ]
  },
  {
   "cell_type": "code",
   "execution_count": 36,
   "id": "c060e82d",
   "metadata": {},
   "outputs": [
    {
     "data": {
      "text/html": [
       "<div>\n",
       "<style scoped>\n",
       "    .dataframe tbody tr th:only-of-type {\n",
       "        vertical-align: middle;\n",
       "    }\n",
       "\n",
       "    .dataframe tbody tr th {\n",
       "        vertical-align: top;\n",
       "    }\n",
       "\n",
       "    .dataframe thead th {\n",
       "        text-align: right;\n",
       "    }\n",
       "</style>\n",
       "<table border=\"1\" class=\"dataframe\">\n",
       "  <thead>\n",
       "    <tr style=\"text-align: right;\">\n",
       "      <th></th>\n",
       "      <th>State</th>\n",
       "      <th>District</th>\n",
       "      <th>Crop</th>\n",
       "      <th>Year</th>\n",
       "      <th>Yield</th>\n",
       "      <th>avg_rainfall</th>\n",
       "    </tr>\n",
       "  </thead>\n",
       "  <tbody>\n",
       "    <tr>\n",
       "      <th>0</th>\n",
       "      <td>ANDHRA PRADESH</td>\n",
       "      <td>KRISHNA</td>\n",
       "      <td>Arecanut</td>\n",
       "      <td>2001</td>\n",
       "      <td>1.750000</td>\n",
       "      <td>892.3</td>\n",
       "    </tr>\n",
       "    <tr>\n",
       "      <th>1</th>\n",
       "      <td>ANDHRA PRADESH</td>\n",
       "      <td>KRISHNA</td>\n",
       "      <td>Arhar/Tur</td>\n",
       "      <td>2001</td>\n",
       "      <td>0.638061</td>\n",
       "      <td>892.3</td>\n",
       "    </tr>\n",
       "    <tr>\n",
       "      <th>2</th>\n",
       "      <td>ANDHRA PRADESH</td>\n",
       "      <td>KRISHNA</td>\n",
       "      <td>Arhar/Tur</td>\n",
       "      <td>2001</td>\n",
       "      <td>0.637500</td>\n",
       "      <td>892.3</td>\n",
       "    </tr>\n",
       "    <tr>\n",
       "      <th>3</th>\n",
       "      <td>ANDHRA PRADESH</td>\n",
       "      <td>KRISHNA</td>\n",
       "      <td>Banana</td>\n",
       "      <td>2001</td>\n",
       "      <td>2.535990</td>\n",
       "      <td>892.3</td>\n",
       "    </tr>\n",
       "    <tr>\n",
       "      <th>4</th>\n",
       "      <td>ANDHRA PRADESH</td>\n",
       "      <td>KRISHNA</td>\n",
       "      <td>Cashewnut</td>\n",
       "      <td>2001</td>\n",
       "      <td>0.273973</td>\n",
       "      <td>892.3</td>\n",
       "    </tr>\n",
       "  </tbody>\n",
       "</table>\n",
       "</div>"
      ],
      "text/plain": [
       "            State District       Crop  Year     Yield  avg_rainfall\n",
       "0  ANDHRA PRADESH  KRISHNA   Arecanut  2001  1.750000         892.3\n",
       "1  ANDHRA PRADESH  KRISHNA  Arhar/Tur  2001  0.638061         892.3\n",
       "2  ANDHRA PRADESH  KRISHNA  Arhar/Tur  2001  0.637500         892.3\n",
       "3  ANDHRA PRADESH  KRISHNA     Banana  2001  2.535990         892.3\n",
       "4  ANDHRA PRADESH  KRISHNA  Cashewnut  2001  0.273973         892.3"
      ]
     },
     "execution_count": 36,
     "metadata": {},
     "output_type": "execute_result"
    }
   ],
   "source": [
    "df1 = pd.merge(df1,df_rain, on=['State','District','Year'])  \n",
    "df1.head()  "
   ]
  },
  {
   "cell_type": "code",
   "execution_count": 37,
   "id": "38dde10b",
   "metadata": {},
   "outputs": [
    {
     "data": {
      "text/plain": [
       "(229001, 6)"
      ]
     },
     "execution_count": 37,
     "metadata": {},
     "output_type": "execute_result"
    }
   ],
   "source": [
    "df1.shape"
   ]
  },
  {
   "cell_type": "code",
   "execution_count": 38,
   "id": "faa3e5b1",
   "metadata": {},
   "outputs": [
    {
     "data": {
      "text/html": [
       "<div>\n",
       "<style scoped>\n",
       "    .dataframe tbody tr th:only-of-type {\n",
       "        vertical-align: middle;\n",
       "    }\n",
       "\n",
       "    .dataframe tbody tr th {\n",
       "        vertical-align: top;\n",
       "    }\n",
       "\n",
       "    .dataframe thead th {\n",
       "        text-align: right;\n",
       "    }\n",
       "</style>\n",
       "<table border=\"1\" class=\"dataframe\">\n",
       "  <thead>\n",
       "    <tr style=\"text-align: right;\">\n",
       "      <th></th>\n",
       "      <th>State</th>\n",
       "      <th>District</th>\n",
       "      <th>Crop</th>\n",
       "      <th>Year</th>\n",
       "      <th>Yield</th>\n",
       "      <th>avg_rainfall</th>\n",
       "      <th>Avg_Temp</th>\n",
       "    </tr>\n",
       "  </thead>\n",
       "  <tbody>\n",
       "    <tr>\n",
       "      <th>0</th>\n",
       "      <td>ANDHRA PRADESH</td>\n",
       "      <td>KRISHNA</td>\n",
       "      <td>Arecanut</td>\n",
       "      <td>2001</td>\n",
       "      <td>1.750000</td>\n",
       "      <td>892.3</td>\n",
       "      <td>24.247</td>\n",
       "    </tr>\n",
       "    <tr>\n",
       "      <th>1</th>\n",
       "      <td>ANDHRA PRADESH</td>\n",
       "      <td>KRISHNA</td>\n",
       "      <td>Arhar/Tur</td>\n",
       "      <td>2001</td>\n",
       "      <td>0.638061</td>\n",
       "      <td>892.3</td>\n",
       "      <td>24.247</td>\n",
       "    </tr>\n",
       "    <tr>\n",
       "      <th>2</th>\n",
       "      <td>ANDHRA PRADESH</td>\n",
       "      <td>KRISHNA</td>\n",
       "      <td>Arhar/Tur</td>\n",
       "      <td>2001</td>\n",
       "      <td>0.637500</td>\n",
       "      <td>892.3</td>\n",
       "      <td>24.247</td>\n",
       "    </tr>\n",
       "    <tr>\n",
       "      <th>3</th>\n",
       "      <td>ANDHRA PRADESH</td>\n",
       "      <td>KRISHNA</td>\n",
       "      <td>Banana</td>\n",
       "      <td>2001</td>\n",
       "      <td>2.535990</td>\n",
       "      <td>892.3</td>\n",
       "      <td>24.247</td>\n",
       "    </tr>\n",
       "    <tr>\n",
       "      <th>4</th>\n",
       "      <td>ANDHRA PRADESH</td>\n",
       "      <td>KRISHNA</td>\n",
       "      <td>Cashewnut</td>\n",
       "      <td>2001</td>\n",
       "      <td>0.273973</td>\n",
       "      <td>892.3</td>\n",
       "      <td>24.247</td>\n",
       "    </tr>\n",
       "  </tbody>\n",
       "</table>\n",
       "</div>"
      ],
      "text/plain": [
       "            State District       Crop  Year     Yield  avg_rainfall  Avg_Temp\n",
       "0  ANDHRA PRADESH  KRISHNA   Arecanut  2001  1.750000         892.3    24.247\n",
       "1  ANDHRA PRADESH  KRISHNA  Arhar/Tur  2001  0.638061         892.3    24.247\n",
       "2  ANDHRA PRADESH  KRISHNA  Arhar/Tur  2001  0.637500         892.3    24.247\n",
       "3  ANDHRA PRADESH  KRISHNA     Banana  2001  2.535990         892.3    24.247\n",
       "4  ANDHRA PRADESH  KRISHNA  Cashewnut  2001  0.273973         892.3    24.247"
      ]
     },
     "execution_count": 38,
     "metadata": {},
     "output_type": "execute_result"
    }
   ],
   "source": [
    "df1 = pd.merge(df1,df_tempraw, on=['District','Year'])  \n",
    "df1.head()  "
   ]
  },
  {
   "cell_type": "code",
   "execution_count": 39,
   "id": "bde664ab",
   "metadata": {},
   "outputs": [
    {
     "data": {
      "text/plain": [
       "(157488, 7)"
      ]
     },
     "execution_count": 39,
     "metadata": {},
     "output_type": "execute_result"
    }
   ],
   "source": [
    "df1.shape"
   ]
  },
  {
   "cell_type": "code",
   "execution_count": 40,
   "id": "1ce1e2a1",
   "metadata": {},
   "outputs": [
    {
     "data": {
      "text/html": [
       "<div>\n",
       "<style scoped>\n",
       "    .dataframe tbody tr th:only-of-type {\n",
       "        vertical-align: middle;\n",
       "    }\n",
       "\n",
       "    .dataframe tbody tr th {\n",
       "        vertical-align: top;\n",
       "    }\n",
       "\n",
       "    .dataframe thead th {\n",
       "        text-align: right;\n",
       "    }\n",
       "</style>\n",
       "<table border=\"1\" class=\"dataframe\">\n",
       "  <thead>\n",
       "    <tr style=\"text-align: right;\">\n",
       "      <th></th>\n",
       "      <th>Year</th>\n",
       "      <th>Yield</th>\n",
       "      <th>avg_rainfall</th>\n",
       "      <th>Avg_Temp</th>\n",
       "    </tr>\n",
       "  </thead>\n",
       "  <tbody>\n",
       "    <tr>\n",
       "      <th>count</th>\n",
       "      <td>157488.000000</td>\n",
       "      <td>157488.000000</td>\n",
       "      <td>157488.000000</td>\n",
       "      <td>157488.000000</td>\n",
       "    </tr>\n",
       "    <tr>\n",
       "      <th>mean</th>\n",
       "      <td>2005.436916</td>\n",
       "      <td>57.664123</td>\n",
       "      <td>1097.932458</td>\n",
       "      <td>18.793797</td>\n",
       "    </tr>\n",
       "    <tr>\n",
       "      <th>std</th>\n",
       "      <td>4.749769</td>\n",
       "      <td>796.804502</td>\n",
       "      <td>645.970589</td>\n",
       "      <td>3.207614</td>\n",
       "    </tr>\n",
       "    <tr>\n",
       "      <th>min</th>\n",
       "      <td>1997.000000</td>\n",
       "      <td>0.000000</td>\n",
       "      <td>0.000000</td>\n",
       "      <td>-4.928000</td>\n",
       "    </tr>\n",
       "    <tr>\n",
       "      <th>25%</th>\n",
       "      <td>2001.000000</td>\n",
       "      <td>0.514115</td>\n",
       "      <td>693.300000</td>\n",
       "      <td>16.805000</td>\n",
       "    </tr>\n",
       "    <tr>\n",
       "      <th>50%</th>\n",
       "      <td>2006.000000</td>\n",
       "      <td>1.000000</td>\n",
       "      <td>945.067000</td>\n",
       "      <td>18.503000</td>\n",
       "    </tr>\n",
       "    <tr>\n",
       "      <th>75%</th>\n",
       "      <td>2010.000000</td>\n",
       "      <td>2.125000</td>\n",
       "      <td>1305.428000</td>\n",
       "      <td>20.870000</td>\n",
       "    </tr>\n",
       "    <tr>\n",
       "      <th>max</th>\n",
       "      <td>2013.000000</td>\n",
       "      <td>38800.000000</td>\n",
       "      <td>9935.000000</td>\n",
       "      <td>27.280000</td>\n",
       "    </tr>\n",
       "  </tbody>\n",
       "</table>\n",
       "</div>"
      ],
      "text/plain": [
       "                Year          Yield   avg_rainfall       Avg_Temp\n",
       "count  157488.000000  157488.000000  157488.000000  157488.000000\n",
       "mean     2005.436916      57.664123    1097.932458      18.793797\n",
       "std         4.749769     796.804502     645.970589       3.207614\n",
       "min      1997.000000       0.000000       0.000000      -4.928000\n",
       "25%      2001.000000       0.514115     693.300000      16.805000\n",
       "50%      2006.000000       1.000000     945.067000      18.503000\n",
       "75%      2010.000000       2.125000    1305.428000      20.870000\n",
       "max      2013.000000   38800.000000    9935.000000      27.280000"
      ]
     },
     "execution_count": 40,
     "metadata": {},
     "output_type": "execute_result"
    }
   ],
   "source": [
    "df1.describe()"
   ]
  },
  {
   "cell_type": "code",
   "execution_count": 41,
   "id": "37996a8e",
   "metadata": {},
   "outputs": [
    {
     "data": {
      "text/plain": [
       "State           0\n",
       "District        0\n",
       "Crop            0\n",
       "Year            0\n",
       "Yield           0\n",
       "avg_rainfall    0\n",
       "Avg_Temp        0\n",
       "dtype: int64"
      ]
     },
     "execution_count": 41,
     "metadata": {},
     "output_type": "execute_result"
    }
   ],
   "source": [
    "df1.isnull().sum()"
   ]
  },
  {
   "cell_type": "code",
   "execution_count": 42,
   "id": "f72c91fe",
   "metadata": {},
   "outputs": [
    {
     "name": "stdout",
     "output_type": "stream",
     "text": [
      "<class 'pandas.core.frame.DataFrame'>\n",
      "RangeIndex: 157488 entries, 0 to 157487\n",
      "Data columns (total 7 columns):\n",
      " #   Column        Non-Null Count   Dtype  \n",
      "---  ------        --------------   -----  \n",
      " 0   State         157488 non-null  object \n",
      " 1   District      157488 non-null  object \n",
      " 2   Crop          157488 non-null  object \n",
      " 3   Year          157488 non-null  int32  \n",
      " 4   Yield         157488 non-null  float64\n",
      " 5   avg_rainfall  157488 non-null  float64\n",
      " 6   Avg_Temp      157488 non-null  float64\n",
      "dtypes: float64(3), int32(1), object(3)\n",
      "memory usage: 7.8+ MB\n"
     ]
    }
   ],
   "source": [
    "df1.info()"
   ]
  },
  {
   "cell_type": "code",
   "execution_count": 43,
   "id": "710f88b1",
   "metadata": {},
   "outputs": [
    {
     "data": {
      "text/plain": [
       "175"
      ]
     },
     "execution_count": 43,
     "metadata": {},
     "output_type": "execute_result"
    }
   ],
   "source": [
    "df1.duplicated().sum()"
   ]
  },
  {
   "cell_type": "code",
   "execution_count": 44,
   "id": "f9a31391",
   "metadata": {},
   "outputs": [],
   "source": [
    "df1.drop_duplicates(inplace = True)"
   ]
  },
  {
   "cell_type": "code",
   "execution_count": 45,
   "id": "8c54dc44",
   "metadata": {},
   "outputs": [
    {
     "data": {
      "text/plain": [
       "0"
      ]
     },
     "execution_count": 45,
     "metadata": {},
     "output_type": "execute_result"
    }
   ],
   "source": [
    "df1.duplicated().sum()"
   ]
  },
  {
   "cell_type": "code",
   "execution_count": 46,
   "id": "a7ec670c",
   "metadata": {},
   "outputs": [
    {
     "data": {
      "text/html": [
       "<div>\n",
       "<style scoped>\n",
       "    .dataframe tbody tr th:only-of-type {\n",
       "        vertical-align: middle;\n",
       "    }\n",
       "\n",
       "    .dataframe tbody tr th {\n",
       "        vertical-align: top;\n",
       "    }\n",
       "\n",
       "    .dataframe thead th {\n",
       "        text-align: right;\n",
       "    }\n",
       "</style>\n",
       "<table border=\"1\" class=\"dataframe\">\n",
       "  <thead>\n",
       "    <tr style=\"text-align: right;\">\n",
       "      <th></th>\n",
       "      <th>Year</th>\n",
       "      <th>Yield</th>\n",
       "      <th>avg_rainfall</th>\n",
       "      <th>Avg_Temp</th>\n",
       "    </tr>\n",
       "  </thead>\n",
       "  <tbody>\n",
       "    <tr>\n",
       "      <th>count</th>\n",
       "      <td>157313.000000</td>\n",
       "      <td>157313.000000</td>\n",
       "      <td>157313.000000</td>\n",
       "      <td>157313.000000</td>\n",
       "    </tr>\n",
       "    <tr>\n",
       "      <th>mean</th>\n",
       "      <td>2005.438260</td>\n",
       "      <td>57.726781</td>\n",
       "      <td>1097.674991</td>\n",
       "      <td>18.792120</td>\n",
       "    </tr>\n",
       "    <tr>\n",
       "      <th>std</th>\n",
       "      <td>4.749754</td>\n",
       "      <td>797.245355</td>\n",
       "      <td>645.564035</td>\n",
       "      <td>3.207506</td>\n",
       "    </tr>\n",
       "    <tr>\n",
       "      <th>min</th>\n",
       "      <td>1997.000000</td>\n",
       "      <td>0.000000</td>\n",
       "      <td>0.000000</td>\n",
       "      <td>-4.928000</td>\n",
       "    </tr>\n",
       "    <tr>\n",
       "      <th>25%</th>\n",
       "      <td>2001.000000</td>\n",
       "      <td>0.514463</td>\n",
       "      <td>693.300000</td>\n",
       "      <td>16.805000</td>\n",
       "    </tr>\n",
       "    <tr>\n",
       "      <th>50%</th>\n",
       "      <td>2006.000000</td>\n",
       "      <td>1.000000</td>\n",
       "      <td>944.904000</td>\n",
       "      <td>18.503000</td>\n",
       "    </tr>\n",
       "    <tr>\n",
       "      <th>75%</th>\n",
       "      <td>2010.000000</td>\n",
       "      <td>2.125926</td>\n",
       "      <td>1303.900000</td>\n",
       "      <td>20.870000</td>\n",
       "    </tr>\n",
       "    <tr>\n",
       "      <th>max</th>\n",
       "      <td>2013.000000</td>\n",
       "      <td>38800.000000</td>\n",
       "      <td>9935.000000</td>\n",
       "      <td>27.280000</td>\n",
       "    </tr>\n",
       "  </tbody>\n",
       "</table>\n",
       "</div>"
      ],
      "text/plain": [
       "                Year          Yield   avg_rainfall       Avg_Temp\n",
       "count  157313.000000  157313.000000  157313.000000  157313.000000\n",
       "mean     2005.438260      57.726781    1097.674991      18.792120\n",
       "std         4.749754     797.245355     645.564035       3.207506\n",
       "min      1997.000000       0.000000       0.000000      -4.928000\n",
       "25%      2001.000000       0.514463     693.300000      16.805000\n",
       "50%      2006.000000       1.000000     944.904000      18.503000\n",
       "75%      2010.000000       2.125926    1303.900000      20.870000\n",
       "max      2013.000000   38800.000000    9935.000000      27.280000"
      ]
     },
     "execution_count": 46,
     "metadata": {},
     "output_type": "execute_result"
    }
   ],
   "source": [
    "df1.describe()"
   ]
  },
  {
   "cell_type": "code",
   "execution_count": 47,
   "id": "148bd36f",
   "metadata": {},
   "outputs": [
    {
     "data": {
      "text/plain": [
       "0         892.300\n",
       "1         892.300\n",
       "2         892.300\n",
       "3         892.300\n",
       "4         892.300\n",
       "           ...   \n",
       "157483    954.787\n",
       "157484    954.787\n",
       "157485    954.787\n",
       "157486    954.787\n",
       "157487    954.787\n",
       "Name: avg_rainfall, Length: 157313, dtype: float64"
      ]
     },
     "execution_count": 47,
     "metadata": {},
     "output_type": "execute_result"
    }
   ],
   "source": [
    "df1['avg_rainfall']"
   ]
  },
  {
   "cell_type": "code",
   "execution_count": 48,
   "id": "a22fc373",
   "metadata": {},
   "outputs": [],
   "source": [
    "def isStr(obj):\n",
    "    try:\n",
    "        float(obj)\n",
    "        return False\n",
    "    except:\n",
    "        return True"
   ]
  },
  {
   "cell_type": "code",
   "execution_count": 49,
   "id": "b3a83070",
   "metadata": {},
   "outputs": [],
   "source": [
    "to_drop = df1[df1['avg_rainfall'].apply(isStr)].index"
   ]
  },
  {
   "cell_type": "code",
   "execution_count": 50,
   "id": "a22c0a40",
   "metadata": {},
   "outputs": [],
   "source": [
    "df1 = df1.drop(to_drop)"
   ]
  },
  {
   "cell_type": "code",
   "execution_count": 51,
   "id": "0d7646c3",
   "metadata": {},
   "outputs": [
    {
     "data": {
      "text/html": [
       "<div>\n",
       "<style scoped>\n",
       "    .dataframe tbody tr th:only-of-type {\n",
       "        vertical-align: middle;\n",
       "    }\n",
       "\n",
       "    .dataframe tbody tr th {\n",
       "        vertical-align: top;\n",
       "    }\n",
       "\n",
       "    .dataframe thead th {\n",
       "        text-align: right;\n",
       "    }\n",
       "</style>\n",
       "<table border=\"1\" class=\"dataframe\">\n",
       "  <thead>\n",
       "    <tr style=\"text-align: right;\">\n",
       "      <th></th>\n",
       "      <th>State</th>\n",
       "      <th>District</th>\n",
       "      <th>Crop</th>\n",
       "      <th>Year</th>\n",
       "      <th>Yield</th>\n",
       "      <th>avg_rainfall</th>\n",
       "      <th>Avg_Temp</th>\n",
       "    </tr>\n",
       "  </thead>\n",
       "  <tbody>\n",
       "    <tr>\n",
       "      <th>0</th>\n",
       "      <td>ANDHRA PRADESH</td>\n",
       "      <td>KRISHNA</td>\n",
       "      <td>Arecanut</td>\n",
       "      <td>2001</td>\n",
       "      <td>1.750000</td>\n",
       "      <td>892.300</td>\n",
       "      <td>24.247</td>\n",
       "    </tr>\n",
       "    <tr>\n",
       "      <th>1</th>\n",
       "      <td>ANDHRA PRADESH</td>\n",
       "      <td>KRISHNA</td>\n",
       "      <td>Arhar/Tur</td>\n",
       "      <td>2001</td>\n",
       "      <td>0.638061</td>\n",
       "      <td>892.300</td>\n",
       "      <td>24.247</td>\n",
       "    </tr>\n",
       "    <tr>\n",
       "      <th>2</th>\n",
       "      <td>ANDHRA PRADESH</td>\n",
       "      <td>KRISHNA</td>\n",
       "      <td>Arhar/Tur</td>\n",
       "      <td>2001</td>\n",
       "      <td>0.637500</td>\n",
       "      <td>892.300</td>\n",
       "      <td>24.247</td>\n",
       "    </tr>\n",
       "    <tr>\n",
       "      <th>3</th>\n",
       "      <td>ANDHRA PRADESH</td>\n",
       "      <td>KRISHNA</td>\n",
       "      <td>Banana</td>\n",
       "      <td>2001</td>\n",
       "      <td>2.535990</td>\n",
       "      <td>892.300</td>\n",
       "      <td>24.247</td>\n",
       "    </tr>\n",
       "    <tr>\n",
       "      <th>4</th>\n",
       "      <td>ANDHRA PRADESH</td>\n",
       "      <td>KRISHNA</td>\n",
       "      <td>Cashewnut</td>\n",
       "      <td>2001</td>\n",
       "      <td>0.273973</td>\n",
       "      <td>892.300</td>\n",
       "      <td>24.247</td>\n",
       "    </tr>\n",
       "    <tr>\n",
       "      <th>...</th>\n",
       "      <td>...</td>\n",
       "      <td>...</td>\n",
       "      <td>...</td>\n",
       "      <td>...</td>\n",
       "      <td>...</td>\n",
       "      <td>...</td>\n",
       "      <td>...</td>\n",
       "    </tr>\n",
       "    <tr>\n",
       "      <th>157483</th>\n",
       "      <td>WEST BENGAL</td>\n",
       "      <td>PURULIA</td>\n",
       "      <td>Sugarcane</td>\n",
       "      <td>2000</td>\n",
       "      <td>71.955782</td>\n",
       "      <td>954.787</td>\n",
       "      <td>18.121</td>\n",
       "    </tr>\n",
       "    <tr>\n",
       "      <th>157484</th>\n",
       "      <td>WEST BENGAL</td>\n",
       "      <td>PURULIA</td>\n",
       "      <td>Turmeric</td>\n",
       "      <td>2000</td>\n",
       "      <td>0.374269</td>\n",
       "      <td>954.787</td>\n",
       "      <td>18.121</td>\n",
       "    </tr>\n",
       "    <tr>\n",
       "      <th>157485</th>\n",
       "      <td>WEST BENGAL</td>\n",
       "      <td>PURULIA</td>\n",
       "      <td>Urad</td>\n",
       "      <td>2000</td>\n",
       "      <td>0.379322</td>\n",
       "      <td>954.787</td>\n",
       "      <td>18.121</td>\n",
       "    </tr>\n",
       "    <tr>\n",
       "      <th>157486</th>\n",
       "      <td>WEST BENGAL</td>\n",
       "      <td>PURULIA</td>\n",
       "      <td>Urad</td>\n",
       "      <td>2000</td>\n",
       "      <td>0.429825</td>\n",
       "      <td>954.787</td>\n",
       "      <td>18.121</td>\n",
       "    </tr>\n",
       "    <tr>\n",
       "      <th>157487</th>\n",
       "      <td>WEST BENGAL</td>\n",
       "      <td>PURULIA</td>\n",
       "      <td>Wheat</td>\n",
       "      <td>2000</td>\n",
       "      <td>2.494126</td>\n",
       "      <td>954.787</td>\n",
       "      <td>18.121</td>\n",
       "    </tr>\n",
       "  </tbody>\n",
       "</table>\n",
       "<p>157313 rows × 7 columns</p>\n",
       "</div>"
      ],
      "text/plain": [
       "                 State District       Crop  Year      Yield  avg_rainfall  \\\n",
       "0       ANDHRA PRADESH  KRISHNA   Arecanut  2001   1.750000       892.300   \n",
       "1       ANDHRA PRADESH  KRISHNA  Arhar/Tur  2001   0.638061       892.300   \n",
       "2       ANDHRA PRADESH  KRISHNA  Arhar/Tur  2001   0.637500       892.300   \n",
       "3       ANDHRA PRADESH  KRISHNA     Banana  2001   2.535990       892.300   \n",
       "4       ANDHRA PRADESH  KRISHNA  Cashewnut  2001   0.273973       892.300   \n",
       "...                ...      ...        ...   ...        ...           ...   \n",
       "157483     WEST BENGAL  PURULIA  Sugarcane  2000  71.955782       954.787   \n",
       "157484     WEST BENGAL  PURULIA   Turmeric  2000   0.374269       954.787   \n",
       "157485     WEST BENGAL  PURULIA       Urad  2000   0.379322       954.787   \n",
       "157486     WEST BENGAL  PURULIA       Urad  2000   0.429825       954.787   \n",
       "157487     WEST BENGAL  PURULIA      Wheat  2000   2.494126       954.787   \n",
       "\n",
       "        Avg_Temp  \n",
       "0         24.247  \n",
       "1         24.247  \n",
       "2         24.247  \n",
       "3         24.247  \n",
       "4         24.247  \n",
       "...          ...  \n",
       "157483    18.121  \n",
       "157484    18.121  \n",
       "157485    18.121  \n",
       "157486    18.121  \n",
       "157487    18.121  \n",
       "\n",
       "[157313 rows x 7 columns]"
      ]
     },
     "execution_count": 51,
     "metadata": {},
     "output_type": "execute_result"
    }
   ],
   "source": [
    "df1"
   ]
  },
  {
   "cell_type": "markdown",
   "id": "a969a471",
   "metadata": {},
   "source": [
    "# Data Visualization"
   ]
  },
  {
   "cell_type": "code",
   "execution_count": 52,
   "id": "29de722d",
   "metadata": {},
   "outputs": [
    {
     "data": {
      "text/plain": [
       "<Axes: xlabel='count', ylabel='State'>"
      ]
     },
     "execution_count": 52,
     "metadata": {},
     "output_type": "execute_result"
    },
    {
     "data": {
      "image/png": "[encoded data removed]",
      "text/plain": [
       "<Figure size 1000x2000 with 1 Axes>"
      ]
     },
     "metadata": {},
     "output_type": "display_data"
    }
   ],
   "source": [
    "#Frequency of count per State\n",
    "plt.figure(figsize=(10,20))\n",
    "sns.countplot(y=df1['State'])"
   ]
  },
  {
   "cell_type": "code",
   "execution_count": 53,
   "id": "5813a1f8",
   "metadata": {},
   "outputs": [],
   "source": [
    "#Yield Per State\n",
    "st = (df1['State'].unique())"
   ]
  },
  {
   "cell_type": "code",
   "execution_count": 54,
   "id": "bb534a82",
   "metadata": {},
   "outputs": [],
   "source": [
    "yld =[]\n",
    "for s in st:\n",
    "    yld.append(df1[df1['State']==s]['Yield'].sum())"
   ]
  },
  {
   "cell_type": "code",
   "execution_count": 55,
   "id": "fd96e84a",
   "metadata": {},
   "outputs": [
    {
     "data": {
      "text/plain": [
       "[710931.8890420035,\n",
       " 6334.672926833927,\n",
       " 1730775.0140622752,\n",
       " 50671.10574596548,\n",
       " 858.2429856134204,\n",
       " 12335.771188231643,\n",
       " 26242.69784298546,\n",
       " 29213.920704145392,\n",
       " 5358.6827114444,\n",
       " 2722.795842960988,\n",
       " 5582.482321312737,\n",
       " 1200675.7674369265,\n",
       " 75799.84451231261,\n",
       " 56913.15831849954,\n",
       " 37539.85023985481,\n",
       " 10746.220725293764,\n",
       " 4101.351266464315,\n",
       " 2420.363859147359,\n",
       " 8500.966908644314,\n",
       " 27495.687627761472,\n",
       " 322608.4612205024,\n",
       " 13044.419677412767,\n",
       " 37119.57560007349,\n",
       " 2602074.090634463,\n",
       " 5130.567915027783,\n",
       " 135237.2207721904,\n",
       " 8158.616172278699,\n",
       " 1934595.9599429714,\n",
       " 17983.70603285035]"
      ]
     },
     "execution_count": 55,
     "metadata": {},
     "output_type": "execute_result"
    }
   ],
   "source": [
    "yld"
   ]
  },
  {
   "cell_type": "code",
   "execution_count": 56,
   "id": "4ace424f",
   "metadata": {},
   "outputs": [
    {
     "data": {
      "text/plain": [
       "<Axes: xlabel='count', ylabel='Crop'>"
      ]
     },
     "execution_count": 56,
     "metadata": {},
     "output_type": "execute_result"
    },
    {
     "data": {
      "image/png": "[encoded data removed]",
      "text/plain": [
       "<Figure size 1500x2000 with 1 Axes>"
      ]
     },
     "metadata": {},
     "output_type": "display_data"
    }
   ],
   "source": [
    "#Top Crops Production in India \n",
    "plt.figure(figsize=(15,20))\n",
    "sns.countplot(y=df1['Crop'])\n"
   ]
  },
  {
   "cell_type": "code",
   "execution_count": 57,
   "id": "5f9e8b61",
   "metadata": {},
   "outputs": [
    {
     "data": {
      "text/html": [
       "<div>\n",
       "<style scoped>\n",
       "    .dataframe tbody tr th:only-of-type {\n",
       "        vertical-align: middle;\n",
       "    }\n",
       "\n",
       "    .dataframe tbody tr th {\n",
       "        vertical-align: top;\n",
       "    }\n",
       "\n",
       "    .dataframe thead th {\n",
       "        text-align: right;\n",
       "    }\n",
       "</style>\n",
       "<table border=\"1\" class=\"dataframe\">\n",
       "  <thead>\n",
       "    <tr style=\"text-align: right;\">\n",
       "      <th></th>\n",
       "      <th>State</th>\n",
       "      <th>District</th>\n",
       "      <th>Crop</th>\n",
       "      <th>Year</th>\n",
       "      <th>Yield</th>\n",
       "      <th>avg_rainfall</th>\n",
       "      <th>Avg_Temp</th>\n",
       "    </tr>\n",
       "  </thead>\n",
       "  <tbody>\n",
       "    <tr>\n",
       "      <th>0</th>\n",
       "      <td>ANDHRA PRADESH</td>\n",
       "      <td>KRISHNA</td>\n",
       "      <td>Arecanut</td>\n",
       "      <td>2001</td>\n",
       "      <td>1.750000</td>\n",
       "      <td>892.300</td>\n",
       "      <td>24.247</td>\n",
       "    </tr>\n",
       "    <tr>\n",
       "      <th>1</th>\n",
       "      <td>ANDHRA PRADESH</td>\n",
       "      <td>KRISHNA</td>\n",
       "      <td>Arhar/Tur</td>\n",
       "      <td>2001</td>\n",
       "      <td>0.638061</td>\n",
       "      <td>892.300</td>\n",
       "      <td>24.247</td>\n",
       "    </tr>\n",
       "    <tr>\n",
       "      <th>2</th>\n",
       "      <td>ANDHRA PRADESH</td>\n",
       "      <td>KRISHNA</td>\n",
       "      <td>Arhar/Tur</td>\n",
       "      <td>2001</td>\n",
       "      <td>0.637500</td>\n",
       "      <td>892.300</td>\n",
       "      <td>24.247</td>\n",
       "    </tr>\n",
       "    <tr>\n",
       "      <th>3</th>\n",
       "      <td>ANDHRA PRADESH</td>\n",
       "      <td>KRISHNA</td>\n",
       "      <td>Banana</td>\n",
       "      <td>2001</td>\n",
       "      <td>2.535990</td>\n",
       "      <td>892.300</td>\n",
       "      <td>24.247</td>\n",
       "    </tr>\n",
       "    <tr>\n",
       "      <th>4</th>\n",
       "      <td>ANDHRA PRADESH</td>\n",
       "      <td>KRISHNA</td>\n",
       "      <td>Cashewnut</td>\n",
       "      <td>2001</td>\n",
       "      <td>0.273973</td>\n",
       "      <td>892.300</td>\n",
       "      <td>24.247</td>\n",
       "    </tr>\n",
       "    <tr>\n",
       "      <th>...</th>\n",
       "      <td>...</td>\n",
       "      <td>...</td>\n",
       "      <td>...</td>\n",
       "      <td>...</td>\n",
       "      <td>...</td>\n",
       "      <td>...</td>\n",
       "      <td>...</td>\n",
       "    </tr>\n",
       "    <tr>\n",
       "      <th>157483</th>\n",
       "      <td>WEST BENGAL</td>\n",
       "      <td>PURULIA</td>\n",
       "      <td>Sugarcane</td>\n",
       "      <td>2000</td>\n",
       "      <td>71.955782</td>\n",
       "      <td>954.787</td>\n",
       "      <td>18.121</td>\n",
       "    </tr>\n",
       "    <tr>\n",
       "      <th>157484</th>\n",
       "      <td>WEST BENGAL</td>\n",
       "      <td>PURULIA</td>\n",
       "      <td>Turmeric</td>\n",
       "      <td>2000</td>\n",
       "      <td>0.374269</td>\n",
       "      <td>954.787</td>\n",
       "      <td>18.121</td>\n",
       "    </tr>\n",
       "    <tr>\n",
       "      <th>157485</th>\n",
       "      <td>WEST BENGAL</td>\n",
       "      <td>PURULIA</td>\n",
       "      <td>Urad</td>\n",
       "      <td>2000</td>\n",
       "      <td>0.379322</td>\n",
       "      <td>954.787</td>\n",
       "      <td>18.121</td>\n",
       "    </tr>\n",
       "    <tr>\n",
       "      <th>157486</th>\n",
       "      <td>WEST BENGAL</td>\n",
       "      <td>PURULIA</td>\n",
       "      <td>Urad</td>\n",
       "      <td>2000</td>\n",
       "      <td>0.429825</td>\n",
       "      <td>954.787</td>\n",
       "      <td>18.121</td>\n",
       "    </tr>\n",
       "    <tr>\n",
       "      <th>157487</th>\n",
       "      <td>WEST BENGAL</td>\n",
       "      <td>PURULIA</td>\n",
       "      <td>Wheat</td>\n",
       "      <td>2000</td>\n",
       "      <td>2.494126</td>\n",
       "      <td>954.787</td>\n",
       "      <td>18.121</td>\n",
       "    </tr>\n",
       "  </tbody>\n",
       "</table>\n",
       "<p>157313 rows × 7 columns</p>\n",
       "</div>"
      ],
      "text/plain": [
       "                 State District       Crop  Year      Yield  avg_rainfall  \\\n",
       "0       ANDHRA PRADESH  KRISHNA   Arecanut  2001   1.750000       892.300   \n",
       "1       ANDHRA PRADESH  KRISHNA  Arhar/Tur  2001   0.638061       892.300   \n",
       "2       ANDHRA PRADESH  KRISHNA  Arhar/Tur  2001   0.637500       892.300   \n",
       "3       ANDHRA PRADESH  KRISHNA     Banana  2001   2.535990       892.300   \n",
       "4       ANDHRA PRADESH  KRISHNA  Cashewnut  2001   0.273973       892.300   \n",
       "...                ...      ...        ...   ...        ...           ...   \n",
       "157483     WEST BENGAL  PURULIA  Sugarcane  2000  71.955782       954.787   \n",
       "157484     WEST BENGAL  PURULIA   Turmeric  2000   0.374269       954.787   \n",
       "157485     WEST BENGAL  PURULIA       Urad  2000   0.379322       954.787   \n",
       "157486     WEST BENGAL  PURULIA       Urad  2000   0.429825       954.787   \n",
       "157487     WEST BENGAL  PURULIA      Wheat  2000   2.494126       954.787   \n",
       "\n",
       "        Avg_Temp  \n",
       "0         24.247  \n",
       "1         24.247  \n",
       "2         24.247  \n",
       "3         24.247  \n",
       "4         24.247  \n",
       "...          ...  \n",
       "157483    18.121  \n",
       "157484    18.121  \n",
       "157485    18.121  \n",
       "157486    18.121  \n",
       "157487    18.121  \n",
       "\n",
       "[157313 rows x 7 columns]"
      ]
     },
     "execution_count": 57,
     "metadata": {},
     "output_type": "execute_result"
    }
   ],
   "source": [
    "df1"
   ]
  },
  {
   "cell_type": "code",
   "execution_count": 58,
   "id": "2ebf1c14",
   "metadata": {},
   "outputs": [],
   "source": [
    "newcol = ['Year','avg_rainfall','Avg_Temp','State','District','Crop','Yield']\n",
    "df1 = df1[newcol]"
   ]
  },
  {
   "cell_type": "code",
   "execution_count": 59,
   "id": "1a4bf7e7",
   "metadata": {},
   "outputs": [],
   "source": [
    "x = df1.drop('Yield',axis=1)\n",
    "y = df1['Yield']"
   ]
  },
  {
   "cell_type": "code",
   "execution_count": 60,
   "id": "9f7d0d0b",
   "metadata": {},
   "outputs": [],
   "source": [
    "from sklearn.model_selection import train_test_split\n",
    "X_train,X_test,y_train,y_test = train_test_split(x,y,test_size=0.2,random_state=42)"
   ]
  },
  {
   "cell_type": "code",
   "execution_count": 61,
   "id": "63cf9bd5",
   "metadata": {},
   "outputs": [
    {
     "data": {
      "text/plain": [
       "(125850, 6)"
      ]
     },
     "execution_count": 61,
     "metadata": {},
     "output_type": "execute_result"
    }
   ],
   "source": [
    "X_train.shape"
   ]
  },
  {
   "cell_type": "code",
   "execution_count": 62,
   "id": "2469bbd8",
   "metadata": {},
   "outputs": [
    {
     "data": {
      "text/plain": [
       "(31463, 6)"
      ]
     },
     "execution_count": 62,
     "metadata": {},
     "output_type": "execute_result"
    }
   ],
   "source": [
    "X_test.shape"
   ]
  },
  {
   "cell_type": "code",
   "execution_count": 63,
   "id": "2ed045d5",
   "metadata": {},
   "outputs": [
    {
     "data": {
      "text/html": [
       "<div>\n",
       "<style scoped>\n",
       "    .dataframe tbody tr th:only-of-type {\n",
       "        vertical-align: middle;\n",
       "    }\n",
       "\n",
       "    .dataframe tbody tr th {\n",
       "        vertical-align: top;\n",
       "    }\n",
       "\n",
       "    .dataframe thead th {\n",
       "        text-align: right;\n",
       "    }\n",
       "</style>\n",
       "<table border=\"1\" class=\"dataframe\">\n",
       "  <thead>\n",
       "    <tr style=\"text-align: right;\">\n",
       "      <th></th>\n",
       "      <th>Year</th>\n",
       "      <th>avg_rainfall</th>\n",
       "      <th>Avg_Temp</th>\n",
       "      <th>State</th>\n",
       "      <th>District</th>\n",
       "      <th>Crop</th>\n",
       "    </tr>\n",
       "  </thead>\n",
       "  <tbody>\n",
       "    <tr>\n",
       "      <th>83657</th>\n",
       "      <td>2007</td>\n",
       "      <td>1106.900000</td>\n",
       "      <td>17.684</td>\n",
       "      <td>UTTAR PRADESH</td>\n",
       "      <td>MAHARAJGANJ</td>\n",
       "      <td>Barley</td>\n",
       "    </tr>\n",
       "    <tr>\n",
       "      <th>64377</th>\n",
       "      <td>2008</td>\n",
       "      <td>612.300000</td>\n",
       "      <td>13.411</td>\n",
       "      <td>HARYANA</td>\n",
       "      <td>JHAJJAR</td>\n",
       "      <td>Rapeseed &amp;Mustard</td>\n",
       "    </tr>\n",
       "    <tr>\n",
       "      <th>85301</th>\n",
       "      <td>2009</td>\n",
       "      <td>433.600000</td>\n",
       "      <td>18.107</td>\n",
       "      <td>UTTAR PRADESH</td>\n",
       "      <td>VARANASI</td>\n",
       "      <td>Sweet potato</td>\n",
       "    </tr>\n",
       "    <tr>\n",
       "      <th>91534</th>\n",
       "      <td>2010</td>\n",
       "      <td>1211.100000</td>\n",
       "      <td>19.049</td>\n",
       "      <td>CHHATTISGARH</td>\n",
       "      <td>DHAMTARI</td>\n",
       "      <td>Sugarcane</td>\n",
       "    </tr>\n",
       "    <tr>\n",
       "      <th>98494</th>\n",
       "      <td>2010</td>\n",
       "      <td>828.500000</td>\n",
       "      <td>20.347</td>\n",
       "      <td>MADHYA PRADESH</td>\n",
       "      <td>DHAR</td>\n",
       "      <td>Masoor</td>\n",
       "    </tr>\n",
       "    <tr>\n",
       "      <th>...</th>\n",
       "      <td>...</td>\n",
       "      <td>...</td>\n",
       "      <td>...</td>\n",
       "      <td>...</td>\n",
       "      <td>...</td>\n",
       "      <td>...</td>\n",
       "    </tr>\n",
       "    <tr>\n",
       "      <th>119999</th>\n",
       "      <td>2013</td>\n",
       "      <td>1296.700000</td>\n",
       "      <td>22.673</td>\n",
       "      <td>MADHYA PRADESH</td>\n",
       "      <td>DHAR</td>\n",
       "      <td>Horse-gram</td>\n",
       "    </tr>\n",
       "    <tr>\n",
       "      <th>103807</th>\n",
       "      <td>2012</td>\n",
       "      <td>3285.830318</td>\n",
       "      <td>18.803</td>\n",
       "      <td>MEGHALAYA</td>\n",
       "      <td>WEST KHASI HILLS</td>\n",
       "      <td>Banana</td>\n",
       "    </tr>\n",
       "    <tr>\n",
       "      <th>132063</th>\n",
       "      <td>1997</td>\n",
       "      <td>868.778000</td>\n",
       "      <td>16.898</td>\n",
       "      <td>BIHAR</td>\n",
       "      <td>SARAN</td>\n",
       "      <td>Rice</td>\n",
       "    </tr>\n",
       "    <tr>\n",
       "      <th>147040</th>\n",
       "      <td>1998</td>\n",
       "      <td>646.846000</td>\n",
       "      <td>16.894</td>\n",
       "      <td>RAJASTHAN</td>\n",
       "      <td>DAUSA</td>\n",
       "      <td>Jowar</td>\n",
       "    </tr>\n",
       "    <tr>\n",
       "      <th>122080</th>\n",
       "      <td>2013</td>\n",
       "      <td>1643.200000</td>\n",
       "      <td>21.402</td>\n",
       "      <td>ODISHA</td>\n",
       "      <td>DHENKANAL</td>\n",
       "      <td>Rapeseed &amp;Mustard</td>\n",
       "    </tr>\n",
       "  </tbody>\n",
       "</table>\n",
       "<p>125850 rows × 6 columns</p>\n",
       "</div>"
      ],
      "text/plain": [
       "        Year  avg_rainfall  Avg_Temp           State          District  \\\n",
       "83657   2007   1106.900000    17.684   UTTAR PRADESH       MAHARAJGANJ   \n",
       "64377   2008    612.300000    13.411         HARYANA           JHAJJAR   \n",
       "85301   2009    433.600000    18.107   UTTAR PRADESH          VARANASI   \n",
       "91534   2010   1211.100000    19.049    CHHATTISGARH          DHAMTARI   \n",
       "98494   2010    828.500000    20.347  MADHYA PRADESH              DHAR   \n",
       "...      ...           ...       ...             ...               ...   \n",
       "119999  2013   1296.700000    22.673  MADHYA PRADESH              DHAR   \n",
       "103807  2012   3285.830318    18.803       MEGHALAYA  WEST KHASI HILLS   \n",
       "132063  1997    868.778000    16.898           BIHAR             SARAN   \n",
       "147040  1998    646.846000    16.894       RAJASTHAN             DAUSA   \n",
       "122080  2013   1643.200000    21.402          ODISHA         DHENKANAL   \n",
       "\n",
       "                     Crop  \n",
       "83657              Barley  \n",
       "64377   Rapeseed &Mustard  \n",
       "85301        Sweet potato  \n",
       "91534           Sugarcane  \n",
       "98494              Masoor  \n",
       "...                   ...  \n",
       "119999         Horse-gram  \n",
       "103807             Banana  \n",
       "132063               Rice  \n",
       "147040              Jowar  \n",
       "122080  Rapeseed &Mustard  \n",
       "\n",
       "[125850 rows x 6 columns]"
      ]
     },
     "execution_count": 63,
     "metadata": {},
     "output_type": "execute_result"
    }
   ],
   "source": [
    "X_train"
   ]
  },
  {
   "cell_type": "code",
   "execution_count": 64,
   "id": "03717e1f",
   "metadata": {},
   "outputs": [],
   "source": [
    "from sklearn.preprocessing import OneHotEncoder,StandardScaler\n",
    "from sklearn.compose import ColumnTransformer"
   ]
  },
  {
   "cell_type": "code",
   "execution_count": 65,
   "id": "9d8b779f",
   "metadata": {},
   "outputs": [],
   "source": [
    "onehot = OneHotEncoder(drop='first')\n",
    "scal = StandardScaler()"
   ]
  },
  {
   "cell_type": "code",
   "execution_count": 66,
   "id": "25abd3db",
   "metadata": {},
   "outputs": [],
   "source": [
    "pp = ColumnTransformer(\n",
    "transformers = [\n",
    "    ('onehotencoder',onehot,[3,4,5]),\n",
    "    ('standardization',scal,[0,1,2])\n",
    "],\n",
    "remainder = 'passthrough'\n",
    ")"
   ]
  },
  {
   "cell_type": "code",
   "execution_count": 67,
   "id": "fc5cf02c",
   "metadata": {},
   "outputs": [
    {
     "data": {
      "text/html": [
       "<style>#sk-container-id-1 {color: black;}#sk-container-id-1 pre{padding: 0;}#sk-container-id-1 div.sk-toggleable {background-color: white;}#sk-container-id-1 label.sk-toggleable__label {cursor: pointer;display: block;width: 100%;margin-bottom: 0;padding: 0.3em;box-sizing: border-box;text-align: center;}#sk-container-id-1 label.sk-toggleable__label-arrow:before {content: \"▸\";float: left;margin-right: 0.25em;color: #696969;}#sk-container-id-1 label.sk-toggleable__label-arrow:hover:before {color: black;}#sk-container-id-1 div.sk-estimator:hover label.sk-toggleable__label-arrow:before {color: black;}#sk-container-id-1 div.sk-toggleable__content {max-height: 0;max-width: 0;overflow: hidden;text-align: left;background-color: #f0f8ff;}#sk-container-id-1 div.sk-toggleable__content pre {margin: 0.2em;color: black;border-radius: 0.25em;background-color: #f0f8ff;}#sk-container-id-1 input.sk-toggleable__control:checked~div.sk-toggleable__content {max-height: 200px;max-width: 100%;overflow: auto;}#sk-container-id-1 input.sk-toggleable__control:checked~label.sk-toggleable__label-arrow:before {content: \"▾\";}#sk-container-id-1 div.sk-estimator input.sk-toggleable__control:checked~label.sk-toggleable__label {background-color: #d4ebff;}#sk-container-id-1 div.sk-label input.sk-toggleable__control:checked~label.sk-toggleable__label {background-color: #d4ebff;}#sk-container-id-1 input.sk-hidden--visually {border: 0;clip: rect(1px 1px 1px 1px);clip: rect(1px, 1px, 1px, 1px);height: 1px;margin: -1px;overflow: hidden;padding: 0;position: absolute;width: 1px;}#sk-container-id-1 div.sk-estimator {font-family: monospace;background-color: #f0f8ff;border: 1px dotted black;border-radius: 0.25em;box-sizing: border-box;margin-bottom: 0.5em;}#sk-container-id-1 div.sk-estimator:hover {background-color: #d4ebff;}#sk-container-id-1 div.sk-parallel-item::after {content: \"\";width: 100%;border-bottom: 1px solid gray;flex-grow: 1;}#sk-container-id-1 div.sk-label:hover label.sk-toggleable__label {background-color: #d4ebff;}#sk-container-id-1 div.sk-serial::before {content: \"\";position: absolute;border-left: 1px solid gray;box-sizing: border-box;top: 0;bottom: 0;left: 50%;z-index: 0;}#sk-container-id-1 div.sk-serial {display: flex;flex-direction: column;align-items: center;background-color: white;padding-right: 0.2em;padding-left: 0.2em;position: relative;}#sk-container-id-1 div.sk-item {position: relative;z-index: 1;}#sk-container-id-1 div.sk-parallel {display: flex;align-items: stretch;justify-content: center;background-color: white;position: relative;}#sk-container-id-1 div.sk-item::before, #sk-container-id-1 div.sk-parallel-item::before {content: \"\";position: absolute;border-left: 1px solid gray;box-sizing: border-box;top: 0;bottom: 0;left: 50%;z-index: -1;}#sk-container-id-1 div.sk-parallel-item {display: flex;flex-direction: column;z-index: 1;position: relative;background-color: white;}#sk-container-id-1 div.sk-parallel-item:first-child::after {align-self: flex-end;width: 50%;}#sk-container-id-1 div.sk-parallel-item:last-child::after {align-self: flex-start;width: 50%;}#sk-container-id-1 div.sk-parallel-item:only-child::after {width: 0;}#sk-container-id-1 div.sk-dashed-wrapped {border: 1px dashed gray;margin: 0 0.4em 0.5em 0.4em;box-sizing: border-box;padding-bottom: 0.4em;background-color: white;}#sk-container-id-1 div.sk-label label {font-family: monospace;font-weight: bold;display: inline-block;line-height: 1.2em;}#sk-container-id-1 div.sk-label-container {text-align: center;}#sk-container-id-1 div.sk-container {/* jupyter's `normalize.less` sets `[hidden] { display: none; }` but bootstrap.min.css set `[hidden] { display: none !important; }` so we also need the `!important` here to be able to override the default hidden behavior on the sphinx rendered scikit-learn.org. See: https://github.com/scikit-learn/scikit-learn/issues/21755 */display: inline-block !important;position: relative;}#sk-container-id-1 div.sk-text-repr-fallback {display: none;}</style><div id=\"sk-container-id-1\" class=\"sk-top-container\"><div class=\"sk-text-repr-fallback\"><pre>ColumnTransformer(remainder=&#x27;passthrough&#x27;,\n",
       "                  transformers=[(&#x27;onehotencoder&#x27;, OneHotEncoder(drop=&#x27;first&#x27;),\n",
       "                                 [3, 4, 5]),\n",
       "                                (&#x27;standardization&#x27;, StandardScaler(),\n",
       "                                 [0, 1, 2])])</pre><b>In a Jupyter environment, please rerun this cell to show the HTML representation or trust the notebook. <br />On GitHub, the HTML representation is unable to render, please try loading this page with nbviewer.org.</b></div><div class=\"sk-container\" hidden><div class=\"sk-item sk-dashed-wrapped\"><div class=\"sk-label-container\"><div class=\"sk-label sk-toggleable\"><input class=\"sk-toggleable__control sk-hidden--visually\" id=\"sk-estimator-id-1\" type=\"checkbox\" ><label for=\"sk-estimator-id-1\" class=\"sk-toggleable__label sk-toggleable__label-arrow\">ColumnTransformer</label><div class=\"sk-toggleable__content\"><pre>ColumnTransformer(remainder=&#x27;passthrough&#x27;,\n",
       "                  transformers=[(&#x27;onehotencoder&#x27;, OneHotEncoder(drop=&#x27;first&#x27;),\n",
       "                                 [3, 4, 5]),\n",
       "                                (&#x27;standardization&#x27;, StandardScaler(),\n",
       "                                 [0, 1, 2])])</pre></div></div></div><div class=\"sk-parallel\"><div class=\"sk-parallel-item\"><div class=\"sk-item\"><div class=\"sk-label-container\"><div class=\"sk-label sk-toggleable\"><input class=\"sk-toggleable__control sk-hidden--visually\" id=\"sk-estimator-id-2\" type=\"checkbox\" ><label for=\"sk-estimator-id-2\" class=\"sk-toggleable__label sk-toggleable__label-arrow\">onehotencoder</label><div class=\"sk-toggleable__content\"><pre>[3, 4, 5]</pre></div></div></div><div class=\"sk-serial\"><div class=\"sk-item\"><div class=\"sk-estimator sk-toggleable\"><input class=\"sk-toggleable__control sk-hidden--visually\" id=\"sk-estimator-id-3\" type=\"checkbox\" ><label for=\"sk-estimator-id-3\" class=\"sk-toggleable__label sk-toggleable__label-arrow\">OneHotEncoder</label><div class=\"sk-toggleable__content\"><pre>OneHotEncoder(drop=&#x27;first&#x27;)</pre></div></div></div></div></div></div><div class=\"sk-parallel-item\"><div class=\"sk-item\"><div class=\"sk-label-container\"><div class=\"sk-label sk-toggleable\"><input class=\"sk-toggleable__control sk-hidden--visually\" id=\"sk-estimator-id-4\" type=\"checkbox\" ><label for=\"sk-estimator-id-4\" class=\"sk-toggleable__label sk-toggleable__label-arrow\">standardization</label><div class=\"sk-toggleable__content\"><pre>[0, 1, 2]</pre></div></div></div><div class=\"sk-serial\"><div class=\"sk-item\"><div class=\"sk-estimator sk-toggleable\"><input class=\"sk-toggleable__control sk-hidden--visually\" id=\"sk-estimator-id-5\" type=\"checkbox\" ><label for=\"sk-estimator-id-5\" class=\"sk-toggleable__label sk-toggleable__label-arrow\">StandardScaler</label><div class=\"sk-toggleable__content\"><pre>StandardScaler()</pre></div></div></div></div></div></div><div class=\"sk-parallel-item\"><div class=\"sk-item\"><div class=\"sk-label-container\"><div class=\"sk-label sk-toggleable\"><input class=\"sk-toggleable__control sk-hidden--visually\" id=\"sk-estimator-id-6\" type=\"checkbox\" ><label for=\"sk-estimator-id-6\" class=\"sk-toggleable__label sk-toggleable__label-arrow\">remainder</label><div class=\"sk-toggleable__content\"><pre></pre></div></div></div><div class=\"sk-serial\"><div class=\"sk-item\"><div class=\"sk-estimator sk-toggleable\"><input class=\"sk-toggleable__control sk-hidden--visually\" id=\"sk-estimator-id-7\" type=\"checkbox\" ><label for=\"sk-estimator-id-7\" class=\"sk-toggleable__label sk-toggleable__label-arrow\">passthrough</label><div class=\"sk-toggleable__content\"><pre>passthrough</pre></div></div></div></div></div></div></div></div></div></div>"
      ],
      "text/plain": [
       "ColumnTransformer(remainder='passthrough',\n",
       "                  transformers=[('onehotencoder', OneHotEncoder(drop='first'),\n",
       "                                 [3, 4, 5]),\n",
       "                                ('standardization', StandardScaler(),\n",
       "                                 [0, 1, 2])])"
      ]
     },
     "execution_count": 67,
     "metadata": {},
     "output_type": "execute_result"
    }
   ],
   "source": [
    "pp"
   ]
  },
  {
   "cell_type": "code",
   "execution_count": 68,
   "id": "1f0b11ec",
   "metadata": {},
   "outputs": [],
   "source": [
    "XTrain2 = pp.fit_transform(X_train)\n",
    "XTest2 = pp.fit_transform(X_test)"
   ]
  },
  {
   "cell_type": "code",
   "execution_count": 69,
   "id": "2421e3ef",
   "metadata": {},
   "outputs": [
    {
     "data": {
      "text/plain": [
       "<125850x486 sparse matrix of type '<class 'numpy.float64'>'\n",
       "\twith 752094 stored elements in Compressed Sparse Row format>"
      ]
     },
     "execution_count": 69,
     "metadata": {},
     "output_type": "execute_result"
    }
   ],
   "source": [
    "XTrain2"
   ]
  },
  {
   "cell_type": "code",
   "execution_count": 70,
   "id": "5c809c71",
   "metadata": {},
   "outputs": [],
   "source": [
    "from sklearn.linear_model import LinearRegression,Lasso,Ridge\n",
    "from sklearn.neighbors import KNeighborsRegressor\n",
    "from sklearn.tree import DecisionTreeRegressor\n",
    "from sklearn.metrics import mean_squared_error, r2_score"
   ]
  },
  {
   "cell_type": "code",
   "execution_count": 79,
   "id": "786d0f49",
   "metadata": {},
   "outputs": [
    {
     "name": "stdout",
     "output_type": "stream",
     "text": [
      "Lreg MSE : 155309.08544309047 Score 0.7592016969769113\n",
      "Las MSE : 155635.2587024883 Score 0.7586959830508365\n",
      "Rig MSE : 155239.86115614529 Score 0.759309025474641\n",
      "Knbr MSE : 102871.70950781295 Score 0.8405030007877909\n",
      "Dst MSE : 84191.42702563656 Score 0.8694657643561094\n"
     ]
    }
   ],
   "source": [
    "mdl = {\n",
    "    'Lreg':LinearRegression(),\n",
    "    'Las':Lasso(),\n",
    "    'Rig':Ridge(),\n",
    "    'Knbr':KNeighborsRegressor(),\n",
    "    'Dst':DecisionTreeRegressor()\n",
    "}\n",
    "model_names = []\n",
    "mse_values = []\n",
    "r2_values = []\n",
    "\n",
    "# Assuming mdl is a dictionary containing model names as keys and model instances as values\n",
    "\n",
    "for name, mod in mdl.items():\n",
    "    mod.fit(XTrain2, y_train)\n",
    "    predY = mod.predict(XTest2)\n",
    "    mse = mean_squared_error(y_test, predY)\n",
    "    r2 = r2_score(y_test, predY)\n",
    "    print(f\"{name} MSE : {mse} Score {r2}\")\n",
    "    # Appending model names and error values to the lists\n",
    "    model_names.append(name)\n",
    "    mse_values.append(mse)\n",
    "    r2_values.append(r2)\n"
   ]
  },
  {
   "cell_type": "code",
   "execution_count": 82,
   "id": "2d287046",
   "metadata": {},
   "outputs": [
    {
     "data": {
      "image/png": "[encoded data removed]",
      "text/plain": [
       "<Figure size 800x800 with 1 Axes>"
      ]
     },
     "metadata": {},
     "output_type": "display_data"
    },
    {
     "data": {
      "image/png": "[encoded data removed]",
      "text/plain": [
       "<Figure size 800x800 with 1 Axes>"
      ]
     },
     "metadata": {},
     "output_type": "display_data"
    }
   ],
   "source": [
    "plt.figure(figsize=(8, 8))\n",
    "plt.pie(mse_values, labels=model_names, autopct='%1.1f%%', startangle=140)\n",
    "plt.title('Distribution of Error Values (MSE) Among Different Models')\n",
    "plt.axis('equal')  # Equal aspect ratio ensures that pie is drawn as a circle.\n",
    "plt.show()\n",
    "\n",
    "plt.figure(figsize=(8, 8))\n",
    "plt.pie(r2_values, labels=model_names, autopct='%1.1f%%', startangle=140)\n",
    "plt.title('Distribution of R2 Scores Among Different Models')\n",
    "plt.axis('equal')  # Equal aspect ratio ensures that pie is drawn as a circle.\n",
    "plt.show()"
   ]
  },
  {
   "cell_type": "code",
   "execution_count": 72,
   "id": "6f280af6",
   "metadata": {},
   "outputs": [
    {
     "data": {
      "text/plain": [
       "array([0.50980392, 5.64285714, 0.71428571, ..., 0.38235294, 0.81433962,\n",
       "       0.83333333])"
      ]
     },
     "execution_count": 72,
     "metadata": {},
     "output_type": "execute_result"
    }
   ],
   "source": [
    "Dst = DecisionTreeRegressor()\n",
    "Dst.fit(XTrain2,y_train)\n",
    "Dst.predict(XTest2)"
   ]
  },
  {
   "cell_type": "code",
   "execution_count": 73,
   "id": "84d08fce",
   "metadata": {},
   "outputs": [],
   "source": [
    "def prd(Year,avg_rainfall,Avg_Temp,State,District,Crop):\n",
    "    feat = np.array([[Year,avg_rainfall,Avg_Temp,State,District,Crop]])\n",
    "    NewFeat = pp.transform(feat)\n",
    "    val = Dst.predict(NewFeat).reshape(1,-1)\n",
    "    return val[0]"
   ]
  },
  {
   "cell_type": "code",
   "execution_count": 74,
   "id": "735d7e6c",
   "metadata": {},
   "outputs": [
    {
     "name": "stderr",
     "output_type": "stream",
     "text": [
      "C:\\Users\\KIIT\\anaconda3\\Lib\\site-packages\\sklearn\\base.py:464: UserWarning: X does not have valid feature names, but OneHotEncoder was fitted with feature names\n",
      "  warnings.warn(\n",
      "C:\\Users\\KIIT\\anaconda3\\Lib\\site-packages\\sklearn\\base.py:464: UserWarning: X does not have valid feature names, but StandardScaler was fitted with feature names\n",
      "  warnings.warn(\n"
     ]
    }
   ],
   "source": [
    "Year = 2000\n",
    "avg_rainfall = 59.0\n",
    "Avg_Temp = 26.55\n",
    "State = 'UTTAR PRADESH'\n",
    "District = 'ALLAHABAD'\n",
    "Crop = 'Barley'\n",
    "result = prd(Year,avg_rainfall,Avg_Temp,State,District,Crop)"
   ]
  },
  {
   "cell_type": "code",
   "execution_count": 75,
   "id": "2160545b",
   "metadata": {},
   "outputs": [
    {
     "data": {
      "text/plain": [
       "array([2.30769231])"
      ]
     },
     "execution_count": 75,
     "metadata": {},
     "output_type": "execute_result"
    }
   ],
   "source": [
    "result"
   ]
  },
  {
   "cell_type": "code",
   "execution_count": 76,
   "id": "2a2575e9",
   "metadata": {},
   "outputs": [],
   "source": [
    "import pickle\n",
    "pickle.dump(Dst,open('Dst.pkl','wb'))\n",
    "pickle.dump(pp,open('PreP.pkl','wb'))"
   ]
  },
  {
   "cell_type": "code",
   "execution_count": 77,
   "id": "66f5c19f",
   "metadata": {},
   "outputs": [
    {
     "data": {
      "text/html": [
       "<div>\n",
       "<style scoped>\n",
       "    .dataframe tbody tr th:only-of-type {\n",
       "        vertical-align: middle;\n",
       "    }\n",
       "\n",
       "    .dataframe tbody tr th {\n",
       "        vertical-align: top;\n",
       "    }\n",
       "\n",
       "    .dataframe thead th {\n",
       "        text-align: right;\n",
       "    }\n",
       "</style>\n",
       "<table border=\"1\" class=\"dataframe\">\n",
       "  <thead>\n",
       "    <tr style=\"text-align: right;\">\n",
       "      <th></th>\n",
       "      <th>Year</th>\n",
       "      <th>avg_rainfall</th>\n",
       "      <th>Avg_Temp</th>\n",
       "      <th>State</th>\n",
       "      <th>District</th>\n",
       "      <th>Crop</th>\n",
       "    </tr>\n",
       "  </thead>\n",
       "  <tbody>\n",
       "    <tr>\n",
       "      <th>83657</th>\n",
       "      <td>2007</td>\n",
       "      <td>1106.900000</td>\n",
       "      <td>17.684</td>\n",
       "      <td>UTTAR PRADESH</td>\n",
       "      <td>MAHARAJGANJ</td>\n",
       "      <td>Barley</td>\n",
       "    </tr>\n",
       "    <tr>\n",
       "      <th>64377</th>\n",
       "      <td>2008</td>\n",
       "      <td>612.300000</td>\n",
       "      <td>13.411</td>\n",
       "      <td>HARYANA</td>\n",
       "      <td>JHAJJAR</td>\n",
       "      <td>Rapeseed &amp;Mustard</td>\n",
       "    </tr>\n",
       "    <tr>\n",
       "      <th>85301</th>\n",
       "      <td>2009</td>\n",
       "      <td>433.600000</td>\n",
       "      <td>18.107</td>\n",
       "      <td>UTTAR PRADESH</td>\n",
       "      <td>VARANASI</td>\n",
       "      <td>Sweet potato</td>\n",
       "    </tr>\n",
       "    <tr>\n",
       "      <th>91534</th>\n",
       "      <td>2010</td>\n",
       "      <td>1211.100000</td>\n",
       "      <td>19.049</td>\n",
       "      <td>CHHATTISGARH</td>\n",
       "      <td>DHAMTARI</td>\n",
       "      <td>Sugarcane</td>\n",
       "    </tr>\n",
       "    <tr>\n",
       "      <th>98494</th>\n",
       "      <td>2010</td>\n",
       "      <td>828.500000</td>\n",
       "      <td>20.347</td>\n",
       "      <td>MADHYA PRADESH</td>\n",
       "      <td>DHAR</td>\n",
       "      <td>Masoor</td>\n",
       "    </tr>\n",
       "    <tr>\n",
       "      <th>...</th>\n",
       "      <td>...</td>\n",
       "      <td>...</td>\n",
       "      <td>...</td>\n",
       "      <td>...</td>\n",
       "      <td>...</td>\n",
       "      <td>...</td>\n",
       "    </tr>\n",
       "    <tr>\n",
       "      <th>119999</th>\n",
       "      <td>2013</td>\n",
       "      <td>1296.700000</td>\n",
       "      <td>22.673</td>\n",
       "      <td>MADHYA PRADESH</td>\n",
       "      <td>DHAR</td>\n",
       "      <td>Horse-gram</td>\n",
       "    </tr>\n",
       "    <tr>\n",
       "      <th>103807</th>\n",
       "      <td>2012</td>\n",
       "      <td>3285.830318</td>\n",
       "      <td>18.803</td>\n",
       "      <td>MEGHALAYA</td>\n",
       "      <td>WEST KHASI HILLS</td>\n",
       "      <td>Banana</td>\n",
       "    </tr>\n",
       "    <tr>\n",
       "      <th>132063</th>\n",
       "      <td>1997</td>\n",
       "      <td>868.778000</td>\n",
       "      <td>16.898</td>\n",
       "      <td>BIHAR</td>\n",
       "      <td>SARAN</td>\n",
       "      <td>Rice</td>\n",
       "    </tr>\n",
       "    <tr>\n",
       "      <th>147040</th>\n",
       "      <td>1998</td>\n",
       "      <td>646.846000</td>\n",
       "      <td>16.894</td>\n",
       "      <td>RAJASTHAN</td>\n",
       "      <td>DAUSA</td>\n",
       "      <td>Jowar</td>\n",
       "    </tr>\n",
       "    <tr>\n",
       "      <th>122080</th>\n",
       "      <td>2013</td>\n",
       "      <td>1643.200000</td>\n",
       "      <td>21.402</td>\n",
       "      <td>ODISHA</td>\n",
       "      <td>DHENKANAL</td>\n",
       "      <td>Rapeseed &amp;Mustard</td>\n",
       "    </tr>\n",
       "  </tbody>\n",
       "</table>\n",
       "<p>125850 rows × 6 columns</p>\n",
       "</div>"
      ],
      "text/plain": [
       "        Year  avg_rainfall  Avg_Temp           State          District  \\\n",
       "83657   2007   1106.900000    17.684   UTTAR PRADESH       MAHARAJGANJ   \n",
       "64377   2008    612.300000    13.411         HARYANA           JHAJJAR   \n",
       "85301   2009    433.600000    18.107   UTTAR PRADESH          VARANASI   \n",
       "91534   2010   1211.100000    19.049    CHHATTISGARH          DHAMTARI   \n",
       "98494   2010    828.500000    20.347  MADHYA PRADESH              DHAR   \n",
       "...      ...           ...       ...             ...               ...   \n",
       "119999  2013   1296.700000    22.673  MADHYA PRADESH              DHAR   \n",
       "103807  2012   3285.830318    18.803       MEGHALAYA  WEST KHASI HILLS   \n",
       "132063  1997    868.778000    16.898           BIHAR             SARAN   \n",
       "147040  1998    646.846000    16.894       RAJASTHAN             DAUSA   \n",
       "122080  2013   1643.200000    21.402          ODISHA         DHENKANAL   \n",
       "\n",
       "                     Crop  \n",
       "83657              Barley  \n",
       "64377   Rapeseed &Mustard  \n",
       "85301        Sweet potato  \n",
       "91534           Sugarcane  \n",
       "98494              Masoor  \n",
       "...                   ...  \n",
       "119999         Horse-gram  \n",
       "103807             Banana  \n",
       "132063               Rice  \n",
       "147040              Jowar  \n",
       "122080  Rapeseed &Mustard  \n",
       "\n",
       "[125850 rows x 6 columns]"
      ]
     },
     "execution_count": 77,
     "metadata": {},
     "output_type": "execute_result"
    }
   ],
   "source": [
    "X_train"
   ]
  },
  {
   "cell_type": "code",
   "execution_count": 78,
   "id": "93ce8938",
   "metadata": {},
   "outputs": [
    {
     "data": {
      "text/html": [
       "<div>\n",
       "<style scoped>\n",
       "    .dataframe tbody tr th:only-of-type {\n",
       "        vertical-align: middle;\n",
       "    }\n",
       "\n",
       "    .dataframe tbody tr th {\n",
       "        vertical-align: top;\n",
       "    }\n",
       "\n",
       "    .dataframe thead th {\n",
       "        text-align: right;\n",
       "    }\n",
       "</style>\n",
       "<table border=\"1\" class=\"dataframe\">\n",
       "  <thead>\n",
       "    <tr style=\"text-align: right;\">\n",
       "      <th></th>\n",
       "      <th>Year</th>\n",
       "      <th>avg_rainfall</th>\n",
       "      <th>Avg_Temp</th>\n",
       "      <th>State</th>\n",
       "      <th>District</th>\n",
       "      <th>Crop</th>\n",
       "      <th>Yield</th>\n",
       "    </tr>\n",
       "  </thead>\n",
       "  <tbody>\n",
       "    <tr>\n",
       "      <th>0</th>\n",
       "      <td>2001</td>\n",
       "      <td>892.300</td>\n",
       "      <td>24.247</td>\n",
       "      <td>ANDHRA PRADESH</td>\n",
       "      <td>KRISHNA</td>\n",
       "      <td>Arecanut</td>\n",
       "      <td>1.750000</td>\n",
       "    </tr>\n",
       "    <tr>\n",
       "      <th>1</th>\n",
       "      <td>2001</td>\n",
       "      <td>892.300</td>\n",
       "      <td>24.247</td>\n",
       "      <td>ANDHRA PRADESH</td>\n",
       "      <td>KRISHNA</td>\n",
       "      <td>Arhar/Tur</td>\n",
       "      <td>0.638061</td>\n",
       "    </tr>\n",
       "    <tr>\n",
       "      <th>2</th>\n",
       "      <td>2001</td>\n",
       "      <td>892.300</td>\n",
       "      <td>24.247</td>\n",
       "      <td>ANDHRA PRADESH</td>\n",
       "      <td>KRISHNA</td>\n",
       "      <td>Arhar/Tur</td>\n",
       "      <td>0.637500</td>\n",
       "    </tr>\n",
       "    <tr>\n",
       "      <th>3</th>\n",
       "      <td>2001</td>\n",
       "      <td>892.300</td>\n",
       "      <td>24.247</td>\n",
       "      <td>ANDHRA PRADESH</td>\n",
       "      <td>KRISHNA</td>\n",
       "      <td>Banana</td>\n",
       "      <td>2.535990</td>\n",
       "    </tr>\n",
       "    <tr>\n",
       "      <th>4</th>\n",
       "      <td>2001</td>\n",
       "      <td>892.300</td>\n",
       "      <td>24.247</td>\n",
       "      <td>ANDHRA PRADESH</td>\n",
       "      <td>KRISHNA</td>\n",
       "      <td>Cashewnut</td>\n",
       "      <td>0.273973</td>\n",
       "    </tr>\n",
       "    <tr>\n",
       "      <th>...</th>\n",
       "      <td>...</td>\n",
       "      <td>...</td>\n",
       "      <td>...</td>\n",
       "      <td>...</td>\n",
       "      <td>...</td>\n",
       "      <td>...</td>\n",
       "      <td>...</td>\n",
       "    </tr>\n",
       "    <tr>\n",
       "      <th>157483</th>\n",
       "      <td>2000</td>\n",
       "      <td>954.787</td>\n",
       "      <td>18.121</td>\n",
       "      <td>WEST BENGAL</td>\n",
       "      <td>PURULIA</td>\n",
       "      <td>Sugarcane</td>\n",
       "      <td>71.955782</td>\n",
       "    </tr>\n",
       "    <tr>\n",
       "      <th>157484</th>\n",
       "      <td>2000</td>\n",
       "      <td>954.787</td>\n",
       "      <td>18.121</td>\n",
       "      <td>WEST BENGAL</td>\n",
       "      <td>PURULIA</td>\n",
       "      <td>Turmeric</td>\n",
       "      <td>0.374269</td>\n",
       "    </tr>\n",
       "    <tr>\n",
       "      <th>157485</th>\n",
       "      <td>2000</td>\n",
       "      <td>954.787</td>\n",
       "      <td>18.121</td>\n",
       "      <td>WEST BENGAL</td>\n",
       "      <td>PURULIA</td>\n",
       "      <td>Urad</td>\n",
       "      <td>0.379322</td>\n",
       "    </tr>\n",
       "    <tr>\n",
       "      <th>157486</th>\n",
       "      <td>2000</td>\n",
       "      <td>954.787</td>\n",
       "      <td>18.121</td>\n",
       "      <td>WEST BENGAL</td>\n",
       "      <td>PURULIA</td>\n",
       "      <td>Urad</td>\n",
       "      <td>0.429825</td>\n",
       "    </tr>\n",
       "    <tr>\n",
       "      <th>157487</th>\n",
       "      <td>2000</td>\n",
       "      <td>954.787</td>\n",
       "      <td>18.121</td>\n",
       "      <td>WEST BENGAL</td>\n",
       "      <td>PURULIA</td>\n",
       "      <td>Wheat</td>\n",
       "      <td>2.494126</td>\n",
       "    </tr>\n",
       "  </tbody>\n",
       "</table>\n",
       "<p>157313 rows × 7 columns</p>\n",
       "</div>"
      ],
      "text/plain": [
       "        Year  avg_rainfall  Avg_Temp           State District       Crop  \\\n",
       "0       2001       892.300    24.247  ANDHRA PRADESH  KRISHNA   Arecanut   \n",
       "1       2001       892.300    24.247  ANDHRA PRADESH  KRISHNA  Arhar/Tur   \n",
       "2       2001       892.300    24.247  ANDHRA PRADESH  KRISHNA  Arhar/Tur   \n",
       "3       2001       892.300    24.247  ANDHRA PRADESH  KRISHNA     Banana   \n",
       "4       2001       892.300    24.247  ANDHRA PRADESH  KRISHNA  Cashewnut   \n",
       "...      ...           ...       ...             ...      ...        ...   \n",
       "157483  2000       954.787    18.121     WEST BENGAL  PURULIA  Sugarcane   \n",
       "157484  2000       954.787    18.121     WEST BENGAL  PURULIA   Turmeric   \n",
       "157485  2000       954.787    18.121     WEST BENGAL  PURULIA       Urad   \n",
       "157486  2000       954.787    18.121     WEST BENGAL  PURULIA       Urad   \n",
       "157487  2000       954.787    18.121     WEST BENGAL  PURULIA      Wheat   \n",
       "\n",
       "            Yield  \n",
       "0        1.750000  \n",
       "1        0.638061  \n",
       "2        0.637500  \n",
       "3        2.535990  \n",
       "4        0.273973  \n",
       "...           ...  \n",
       "157483  71.955782  \n",
       "157484   0.374269  \n",
       "157485   0.379322  \n",
       "157486   0.429825  \n",
       "157487   2.494126  \n",
       "\n",
       "[157313 rows x 7 columns]"
      ]
     },
     "execution_count": 78,
     "metadata": {},
     "output_type": "execute_result"
    }
   ],
   "source": [
    "df1"
   ]
  }
 ],
 "metadata": {
  "kernelspec": {
   "display_name": "Python 3 (ipykernel)",
   "language": "python",
   "name": "python3"
  },
  "language_info": {
   "codemirror_mode": {
    "name": "ipython",
    "version": 3
   },
   "file_extension": ".py",
   "mimetype": "text/x-python",
   "name": "python",
   "nbconvert_exporter": "python",
   "pygments_lexer": "ipython3",
   "version": "3.11.5"
  }
 },
 "nbformat": 4,
 "nbformat_minor": 5
}
